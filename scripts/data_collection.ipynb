{
 "cells": [
  {
   "cell_type": "code",
   "execution_count": 449,
   "metadata": {},
   "outputs": [],
   "source": [
    "import pandas as pd\n",
    "import numpy as np\n",
    "import os"
   ]
  },
  {
   "cell_type": "code",
   "execution_count": 450,
   "metadata": {},
   "outputs": [],
   "source": [
    "static_feature_1 = pd.read_csv('../data/covid19_merged.csv')\n",
    "static_feature_2 = pd.read_csv('../data/covid19_by_country.csv')"
   ]
  },
  {
   "cell_type": "code",
   "execution_count": 451,
   "metadata": {},
   "outputs": [],
   "source": [
    "feature_selected_1 = ['country','Flu_pneumonia_death_rate_per_100000', 'h1n1_Geographic_spread',\n",
    "       'h1n1_Intensity', 'h1n1_Impact_on_healthcare_services',\n",
    "       'h1n1_Cases_underestimate', 'h1n1_Cases_confirmed',\n",
    "       'h1n1_Deaths_confirmed', 'airport_traffic_2018_thousands',\n",
    "       'property_Affordability_Index', 'Health_Care_Index',\n",
    "       'hosp_beds_per_1000_2017', 'ICU-CCB_beds_per_100000', 'Population_2020',\n",
    "       'Density_KM2m', 'Fertility_rate', 'Median_age', 'Urban_pop_pct',\n",
    "       'gdp_usd_million', 'age_0_to_14_years_percent',\n",
    "       'age_15_to_64_years_percent', 'age_over_65_years_percent',\n",
    "       'sex_male_to_female_At_birth_CIA_estimate_2020',\n",
    "       'sex_male_to_female_0_14_years', 'sex_male_to_female_15_24_years',\n",
    "       'sex_male_to_female_25_54_years', 'sex_male_to_female_55_64_years',\n",
    "       'sex_male_to_female_over_65', 'sex_male_to_female_total']\n",
    "\n",
    "feature_selected_2 = ['lung', 'Female Lung','Male Lung','Smoking 2016']"
   ]
  },
  {
   "cell_type": "code",
   "execution_count": 452,
   "metadata": {},
   "outputs": [],
   "source": [
    "population_features = ['airport_traffic_2018_thousands',\n",
    "       'property_Affordability_Index', 'Population_2020',\n",
    "       'Density_KM2m', 'Fertility_rate', 'Median_age', 'Urban_pop_pct',\n",
    "       'gdp_usd_million', 'age_0_to_14_years_percent',\n",
    "       'age_15_to_64_years_percent', 'age_over_65_years_percent',\n",
    "       'sex_male_to_female_At_birth_CIA_estimate_2020',\n",
    "       'sex_male_to_female_0_14_years', 'sex_male_to_female_15_24_years',\n",
    "       'sex_male_to_female_25_54_years', 'sex_male_to_female_55_64_years',\n",
    "       'sex_male_to_female_over_65', 'sex_male_to_female_total']\n",
    "\n",
    "healthcare_features = ['Flu_pneumonia_death_rate_per_100000', 'h1n1_Geographic_spread',\n",
    "       'h1n1_Intensity', 'h1n1_Impact_on_healthcare_services',\n",
    "       'h1n1_Cases_underestimate', 'h1n1_Cases_confirmed',\n",
    "       'h1n1_Deaths_confirmed', 'Health_Care_Index',\n",
    "       'hosp_beds_per_1000_2017', 'ICU-CCB_beds_per_100000',\n",
    "       'lung', 'Female Lung','Male Lung','Smoking 2016'\n",
    "        ]"
   ]
  },
  {
   "cell_type": "code",
   "execution_count": 453,
   "metadata": {},
   "outputs": [
    {
     "data": {
      "text/plain": [
       "((173, 65), (96, 28))"
      ]
     },
     "execution_count": 453,
     "metadata": {},
     "output_type": "execute_result"
    }
   ],
   "source": [
    "static_feature_1.shape,static_feature_2.shape"
   ]
  },
  {
   "cell_type": "code",
   "execution_count": 454,
   "metadata": {},
   "outputs": [],
   "source": [
    "static_feature = pd.merge(static_feature_1,static_feature_2,how='left',left_on='country',right_on='Country')\n",
    "static_feature['country'] = static_feature['country'].replace('United States','US')"
   ]
  },
  {
   "cell_type": "code",
   "execution_count": 455,
   "metadata": {},
   "outputs": [],
   "source": [
    "static_feature[['country'] + population_features].to_csv('../data/population_features.csv',index=False,header=True)\n",
    "static_feature[['country'] + healthcare_features].to_csv('../data/healthcare_features.csv',index=False,header=True)"
   ]
  },
  {
   "cell_type": "code",
   "execution_count": 456,
   "metadata": {},
   "outputs": [],
   "source": [
    "daily_policy_feature = pd.read_csv('../data/oxford_cgrt.csv')\n",
    "daily_policy_feature['CountryName'] = daily_policy_feature['CountryName'].replace('United States','US')"
   ]
  },
  {
   "cell_type": "code",
   "execution_count": 457,
   "metadata": {},
   "outputs": [],
   "source": [
    "policy_features = ['CountryName', 'Date', 'S1_School closing',\n",
    "       'S1_IsGeneral', 'S2_Workplace closing', 'S2_IsGeneral',\n",
    "       'S3_Cancel public events', 'S3_IsGeneral',\n",
    "       'S4_Close public transport', 'S4_IsGeneral', \n",
    "       'S5_Public information campaigns', 'S5_IsGeneral',\n",
    "       'S6_Restrictions on internal movement', 'S6_IsGeneral',\n",
    "       'S7_International travel controls', 'S8_Fiscal measures',\n",
    "       'S9_Monetary measures', \n",
    "       'S10_Emergency investment in health care', \n",
    "       'S11_Investment in Vaccines', 'StringencyIndex']"
   ]
  },
  {
   "cell_type": "code",
   "execution_count": 458,
   "metadata": {},
   "outputs": [],
   "source": [
    "daily_policy_feature['Date'] = daily_policy_feature.Date.map(lambda x:'-'.join([str(x)[:4],str(x)[4:6],str(x)[6:]]))"
   ]
  },
  {
   "cell_type": "code",
   "execution_count": 459,
   "metadata": {},
   "outputs": [],
   "source": [
    "daily_policy_feature[policy_features].rename({'CountryName':'country','Date':'date'},axis=1).to_csv('../data/daily_policy_feature.csv',index=False,header=True)"
   ]
  },
  {
   "cell_type": "code",
   "execution_count": 460,
   "metadata": {},
   "outputs": [],
   "source": [
    "daily_weather_feature = pd.read_csv('../data/training_data_with_weather_info_week_4.csv')"
   ]
  },
  {
   "cell_type": "code",
   "execution_count": 461,
   "metadata": {},
   "outputs": [
    {
     "data": {
      "text/plain": [
       "Index(['Id', 'Province_State', 'Country_Region', 'Date', 'ConfirmedCases',\n",
       "       'Fatalities', 'country+province', 'Lat', 'Long', 'day_from_jan_first',\n",
       "       'temp', 'min', 'max', 'stp', 'slp', 'dewp', 'rh', 'ah', 'wdsp', 'prcp',\n",
       "       'fog'],\n",
       "      dtype='object')"
      ]
     },
     "execution_count": 461,
     "metadata": {},
     "output_type": "execute_result"
    }
   ],
   "source": [
    "daily_weather_feature.columns"
   ]
  },
  {
   "cell_type": "code",
   "execution_count": 462,
   "metadata": {},
   "outputs": [],
   "source": [
    "countries = [item+'-' for item in daily_weather_feature['Country_Region'].unique() if item not in ['US','China','Canada','Australia']]\n",
    "countries_others = [\n",
    "'US-New York',\n",
    "'China-Hubei',\n",
    "'Canada-Quebec',\n",
    "'Australia-Australian Capital Territory']\n",
    "countries_used = countries + countries_others"
   ]
  },
  {
   "cell_type": "code",
   "execution_count": 463,
   "metadata": {},
   "outputs": [],
   "source": [
    "daily_weather_feature = daily_weather_feature[daily_weather_feature['country+province'].isin(countries_used)]"
   ]
  },
  {
   "cell_type": "code",
   "execution_count": 464,
   "metadata": {},
   "outputs": [],
   "source": [
    "weather_features = ['Country_Region', 'Date', 'temp', 'min', 'max', 'stp', 'slp', 'dewp', 'rh', 'ah', 'wdsp', 'prcp','fog']\n",
    "daily_weather_feature[weather_features].reset_index(drop=True).rename({'Country_Region':'country','Date':'date'},axis=1).to_csv('../data/daily_weather_feature.csv',\n",
    "                                                                                                                                index=False,header=True)"
   ]
  },
  {
   "cell_type": "code",
   "execution_count": 465,
   "metadata": {},
   "outputs": [],
   "source": [
    "daily_confirmed = pd.read_csv('../data/COVID-19/csse_covid_19_data/csse_covid_19_time_series/time_series_covid19_confirmed_global.csv')\n",
    "daily_deaths = pd.read_csv('../data/COVID-19/csse_covid_19_data/csse_covid_19_time_series/time_series_covid19_deaths_global.csv')\n",
    "daily_recovered = pd.read_csv('../data/COVID-19/csse_covid_19_data/csse_covid_19_time_series/time_series_covid19_recovered_global.csv')"
   ]
  },
  {
   "cell_type": "code",
   "execution_count": 466,
   "metadata": {},
   "outputs": [],
   "source": [
    "daily_features = [item for item in daily_confirmed.columns if item not in ['Province/State', 'Country/Region', 'Lat', 'Long']]"
   ]
  },
  {
   "cell_type": "code",
   "execution_count": 467,
   "metadata": {},
   "outputs": [],
   "source": [
    "daily_confirmed[daily_features] = daily_confirmed[daily_features].diff(axis=1)\n",
    "daily_deaths[daily_features] = daily_deaths[daily_features].diff(axis=1)\n",
    "daily_recovered[daily_features] = daily_recovered[daily_features].diff(axis=1)"
   ]
  },
  {
   "cell_type": "code",
   "execution_count": 468,
   "metadata": {},
   "outputs": [],
   "source": [
    "daily_confirmed[daily_features] = daily_confirmed[daily_features].mask(daily_confirmed[daily_features]<0,0)\n",
    "daily_deaths[daily_features] = daily_deaths[daily_features].mask(daily_deaths[daily_features]<0,0)\n",
    "daily_recovered[daily_features] = daily_recovered[daily_features].mask(daily_recovered[daily_features]<0,0)"
   ]
  },
  {
   "cell_type": "code",
   "execution_count": 469,
   "metadata": {},
   "outputs": [],
   "source": [
    "daily_confirmed = daily_confirmed.groupby('Country/Region')[daily_features].sum().reset_index()\n",
    "daily_deaths = daily_deaths.groupby('Country/Region')[daily_features].sum().reset_index()\n",
    "daily_recovered = daily_recovered.groupby('Country/Region')[daily_features].sum().reset_index()"
   ]
  },
  {
   "cell_type": "code",
   "execution_count": 470,
   "metadata": {},
   "outputs": [],
   "source": [
    "daily_confirmed = daily_confirmed.rename({'Country/Region':'country'},\n",
    "                                         axis=1).set_index('country')[daily_features].unstack()\n",
    "daily_deaths = daily_deaths.rename({'Country/Region':'country'},\n",
    "                                         axis=1).set_index('country')[daily_features].unstack()\n",
    "daily_recovered = daily_recovered.rename({'Country/Region':'country'},\n",
    "                                         axis=1).set_index('country')[daily_features].unstack()"
   ]
  },
  {
   "cell_type": "code",
   "execution_count": 471,
   "metadata": {},
   "outputs": [],
   "source": [
    "daily_confirmed = pd.DataFrame(daily_confirmed).reset_index().rename({'level_0':'date',0:'confirmed'},axis=1)\n",
    "daily_deaths = pd.DataFrame(daily_deaths).reset_index().rename({'level_0':'date',0:'deaths'},axis=1)\n",
    "daily_recovered = pd.DataFrame(daily_recovered).reset_index().rename({'level_0':'date',0:'recovered'},axis=1)"
   ]
  },
  {
   "cell_type": "code",
   "execution_count": 472,
   "metadata": {},
   "outputs": [
    {
     "data": {
      "text/plain": [
       "((19822, 3), (19822, 3), (19822, 3))"
      ]
     },
     "execution_count": 472,
     "metadata": {},
     "output_type": "execute_result"
    }
   ],
   "source": [
    "daily_recovered.shape,daily_deaths.shape,daily_confirmed.shape"
   ]
  },
  {
   "cell_type": "code",
   "execution_count": 473,
   "metadata": {},
   "outputs": [],
   "source": [
    "daily_ts = pd.merge(daily_confirmed,daily_deaths,how='left',on=['date','country'])\n",
    "daily_ts = pd.merge(daily_ts,daily_recovered,how='left',on=['date','country'])"
   ]
  },
  {
   "cell_type": "code",
   "execution_count": 474,
   "metadata": {},
   "outputs": [],
   "source": [
    "def normalized_ts_date(x):\n",
    "    m,d,y = x.split('/')\n",
    "    y = '20' + y\n",
    "    m = '0' + m\n",
    "    d = '0' + d if int(d) < 10 else d\n",
    "    return '-'.join([y,m,d])\n",
    "\n",
    "daily_ts['date'] = daily_ts.date.map(lambda x: normalized_ts_date(x))"
   ]
  },
  {
   "cell_type": "code",
   "execution_count": 475,
   "metadata": {},
   "outputs": [],
   "source": [
    "daily_ts.to_csv('../data/daily_ts_feature.csv',index=False,header=True)"
   ]
  },
  {
   "cell_type": "code",
   "execution_count": 476,
   "metadata": {},
   "outputs": [
    {
     "data": {
      "text/plain": [
       "Bosnia and Herzegovina    106\n",
       "Guinea                    106\n",
       "Burma                     106\n",
       "Ireland                   106\n",
       "Andorra                   106\n",
       "                         ... \n",
       "Senegal                   106\n",
       "Fiji                      106\n",
       "Georgia                   106\n",
       "Cyprus                    106\n",
       "Botswana                  106\n",
       "Name: country, Length: 187, dtype: int64"
      ]
     },
     "execution_count": 476,
     "metadata": {},
     "output_type": "execute_result"
    }
   ],
   "source": [
    "daily_recovered.country.value_counts().sort_values()"
   ]
  },
  {
   "cell_type": "code",
   "execution_count": 477,
   "metadata": {},
   "outputs": [
    {
     "data": {
      "text/plain": [
       "Bosnia and Herzegovina    106\n",
       "Guinea                    106\n",
       "Burma                     106\n",
       "Ireland                   106\n",
       "Andorra                   106\n",
       "                         ... \n",
       "Senegal                   106\n",
       "Fiji                      106\n",
       "Georgia                   106\n",
       "Cyprus                    106\n",
       "Botswana                  106\n",
       "Name: country, Length: 187, dtype: int64"
      ]
     },
     "execution_count": 477,
     "metadata": {},
     "output_type": "execute_result"
    }
   ],
   "source": [
    "daily_confirmed.country.value_counts().sort_values()"
   ]
  },
  {
   "cell_type": "code",
   "execution_count": 478,
   "metadata": {},
   "outputs": [
    {
     "data": {
      "text/plain": [
       "Bosnia and Herzegovina    106\n",
       "Guinea                    106\n",
       "Burma                     106\n",
       "Ireland                   106\n",
       "Andorra                   106\n",
       "                         ... \n",
       "Senegal                   106\n",
       "Fiji                      106\n",
       "Georgia                   106\n",
       "Cyprus                    106\n",
       "Botswana                  106\n",
       "Name: country, Length: 187, dtype: int64"
      ]
     },
     "execution_count": 478,
     "metadata": {},
     "output_type": "execute_result"
    }
   ],
   "source": [
    "daily_deaths.country.value_counts().sort_values()"
   ]
  },
  {
   "cell_type": "code",
   "execution_count": null,
   "metadata": {},
   "outputs": [],
   "source": []
  },
  {
   "cell_type": "code",
   "execution_count": 479,
   "metadata": {},
   "outputs": [
    {
     "data": {
      "text/html": [
       "<div>\n",
       "<style scoped>\n",
       "    .dataframe tbody tr th:only-of-type {\n",
       "        vertical-align: middle;\n",
       "    }\n",
       "\n",
       "    .dataframe tbody tr th {\n",
       "        vertical-align: top;\n",
       "    }\n",
       "\n",
       "    .dataframe thead th {\n",
       "        text-align: right;\n",
       "    }\n",
       "</style>\n",
       "<table border=\"1\" class=\"dataframe\">\n",
       "  <thead>\n",
       "    <tr style=\"text-align: right;\">\n",
       "      <th></th>\n",
       "      <th>country</th>\n",
       "      <th>Health_Care_Index</th>\n",
       "      <th>hosp_beds_per_1000_2017</th>\n",
       "      <th>ICU-CCB_beds_per_100000</th>\n",
       "    </tr>\n",
       "  </thead>\n",
       "  <tbody>\n",
       "    <tr>\n",
       "      <th>0</th>\n",
       "      <td>Afghanistan</td>\n",
       "      <td>NaN</td>\n",
       "      <td>NaN</td>\n",
       "      <td>NaN</td>\n",
       "    </tr>\n",
       "    <tr>\n",
       "      <th>1</th>\n",
       "      <td>Albania</td>\n",
       "      <td>53.05</td>\n",
       "      <td>NaN</td>\n",
       "      <td>NaN</td>\n",
       "    </tr>\n",
       "    <tr>\n",
       "      <th>2</th>\n",
       "      <td>Algeria</td>\n",
       "      <td>54.86</td>\n",
       "      <td>NaN</td>\n",
       "      <td>NaN</td>\n",
       "    </tr>\n",
       "    <tr>\n",
       "      <th>3</th>\n",
       "      <td>Andorra</td>\n",
       "      <td>NaN</td>\n",
       "      <td>NaN</td>\n",
       "      <td>NaN</td>\n",
       "    </tr>\n",
       "    <tr>\n",
       "      <th>4</th>\n",
       "      <td>Angola</td>\n",
       "      <td>NaN</td>\n",
       "      <td>NaN</td>\n",
       "      <td>NaN</td>\n",
       "    </tr>\n",
       "    <tr>\n",
       "      <th>...</th>\n",
       "      <td>...</td>\n",
       "      <td>...</td>\n",
       "      <td>...</td>\n",
       "      <td>...</td>\n",
       "    </tr>\n",
       "    <tr>\n",
       "      <th>168</th>\n",
       "      <td>Uzbekistan</td>\n",
       "      <td>NaN</td>\n",
       "      <td>NaN</td>\n",
       "      <td>NaN</td>\n",
       "    </tr>\n",
       "    <tr>\n",
       "      <th>169</th>\n",
       "      <td>Venezuela</td>\n",
       "      <td>39.66</td>\n",
       "      <td>NaN</td>\n",
       "      <td>NaN</td>\n",
       "    </tr>\n",
       "    <tr>\n",
       "      <th>170</th>\n",
       "      <td>Vietnam</td>\n",
       "      <td>57.70</td>\n",
       "      <td>NaN</td>\n",
       "      <td>NaN</td>\n",
       "    </tr>\n",
       "    <tr>\n",
       "      <th>171</th>\n",
       "      <td>Zambia</td>\n",
       "      <td>NaN</td>\n",
       "      <td>NaN</td>\n",
       "      <td>NaN</td>\n",
       "    </tr>\n",
       "    <tr>\n",
       "      <th>172</th>\n",
       "      <td>Zimbabwe</td>\n",
       "      <td>NaN</td>\n",
       "      <td>NaN</td>\n",
       "      <td>NaN</td>\n",
       "    </tr>\n",
       "  </tbody>\n",
       "</table>\n",
       "<p>173 rows × 4 columns</p>\n",
       "</div>"
      ],
      "text/plain": [
       "         country  Health_Care_Index  hosp_beds_per_1000_2017  \\\n",
       "0    Afghanistan                NaN                      NaN   \n",
       "1        Albania              53.05                      NaN   \n",
       "2        Algeria              54.86                      NaN   \n",
       "3        Andorra                NaN                      NaN   \n",
       "4         Angola                NaN                      NaN   \n",
       "..           ...                ...                      ...   \n",
       "168   Uzbekistan                NaN                      NaN   \n",
       "169    Venezuela              39.66                      NaN   \n",
       "170      Vietnam              57.70                      NaN   \n",
       "171       Zambia                NaN                      NaN   \n",
       "172     Zimbabwe                NaN                      NaN   \n",
       "\n",
       "     ICU-CCB_beds_per_100000  \n",
       "0                        NaN  \n",
       "1                        NaN  \n",
       "2                        NaN  \n",
       "3                        NaN  \n",
       "4                        NaN  \n",
       "..                       ...  \n",
       "168                      NaN  \n",
       "169                      NaN  \n",
       "170                      NaN  \n",
       "171                      NaN  \n",
       "172                      NaN  \n",
       "\n",
       "[173 rows x 4 columns]"
      ]
     },
     "execution_count": 479,
     "metadata": {},
     "output_type": "execute_result"
    }
   ],
   "source": [
    "static_feature[['country','Health_Care_Index',\n",
    "       'hosp_beds_per_1000_2017', 'ICU-CCB_beds_per_100000']]"
   ]
  },
  {
   "cell_type": "code",
   "execution_count": null,
   "metadata": {},
   "outputs": [],
   "source": []
  },
  {
   "cell_type": "code",
   "execution_count": null,
   "metadata": {},
   "outputs": [],
   "source": []
  }
 ],
 "metadata": {
  "kernelspec": {
   "display_name": "Python 3",
   "language": "python",
   "name": "python3"
  },
  "language_info": {
   "codemirror_mode": {
    "name": "ipython",
    "version": 3
   },
   "file_extension": ".py",
   "mimetype": "text/x-python",
   "name": "python",
   "nbconvert_exporter": "python",
   "pygments_lexer": "ipython3",
   "version": "3.7.6"
  },
  "toc": {
   "base_numbering": 1,
   "nav_menu": {},
   "number_sections": true,
   "sideBar": true,
   "skip_h1_title": false,
   "title_cell": "Table of Contents",
   "title_sidebar": "Contents",
   "toc_cell": false,
   "toc_position": {},
   "toc_section_display": true,
   "toc_window_display": false
  }
 },
 "nbformat": 4,
 "nbformat_minor": 4
}
