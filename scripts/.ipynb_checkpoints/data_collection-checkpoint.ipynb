{
 "cells": [
  {
   "cell_type": "code",
   "execution_count": 45,
   "metadata": {},
   "outputs": [],
   "source": [
    "import pandas as pd\n",
    "import numpy as np\n",
    "import os"
   ]
  },
  {
   "cell_type": "code",
   "execution_count": 46,
   "metadata": {},
   "outputs": [],
   "source": [
    "static_feature_1 = pd.read_csv('../data/covid19_merged.csv')\n",
    "static_feature_2 = pd.read_csv('../data/covid19_by_country.csv')"
   ]
  },
  {
   "cell_type": "code",
   "execution_count": 47,
   "metadata": {},
   "outputs": [
    {
     "data": {
      "text/plain": [
       "Index(['Unnamed: 0', 'country', 'covid_confirmed_4_28_20',\n",
       "       'covid_deaths_4_28_20', 'covid_recovered_4_28_20', 'covid19_first_date',\n",
       "       'Flu_pneumonia_death_rate_per_100000', 'h1n1_Geographic_spread',\n",
       "       'h1n1_Intensity', 'h1n1_Impact_on_healthcare_services',\n",
       "       'h1n1_Cases_underestimate', 'h1n1_Cases_confirmed',\n",
       "       'h1n1_Deaths_confirmed', 'first_school_closure_date', 'code_2digit_x',\n",
       "       'code_3digit_x', 'jan_temp', 'feb_temp', 'mar_temp', 'apr_temp',\n",
       "       'may_temp', 'jun_temp', 'july_temp', 'aug_temp', 'sept_temp',\n",
       "       'oct_temp', 'nov_temp', 'dec_temp', 'annual_temp', 'Jan_precip',\n",
       "       'Feb_precip', 'Mar_precip', 'Apr_precip', 'May_precip', 'Jun_precip',\n",
       "       'July_precip', 'Aug_precip', 'Sept_precip', 'Oct_precip', 'Nov_precip',\n",
       "       'Dec_precip', 'Annual_precip', 'airport_traffic_2018_thousands',\n",
       "       'property_Affordability_Index', 'Health_Care_Index',\n",
       "       'hosp_beds_per_1000_2017', 'ICU-CCB_beds_per_100000', 'Population_2020',\n",
       "       'Density_KM2m', 'Fertility_rate', 'Median_age', 'Urban_pop_pct',\n",
       "       'gdp_usd_million', 'age_0_to_14_years_percent',\n",
       "       'age_15_to_64_years_percent', 'age_over_65_years_percent',\n",
       "       'sex_male_to_female_At_birth_CIA_estimate_2020',\n",
       "       'sex_male_to_female_0_14_years', 'sex_male_to_female_15_24_years',\n",
       "       'sex_male_to_female_25_54_years', 'sex_male_to_female_55_64_years',\n",
       "       'sex_male_to_female_over_65', 'sex_male_to_female_total', 'latitude',\n",
       "       'longitude'],\n",
       "      dtype='object')"
      ]
     },
     "execution_count": 47,
     "metadata": {},
     "output_type": "execute_result"
    }
   ],
   "source": [
    "static_feature_1.columns"
   ]
  },
  {
   "cell_type": "code",
   "execution_count": 48,
   "metadata": {},
   "outputs": [
    {
     "data": {
      "text/plain": [
       "Index(['Country', 'Tests', 'Test Pop', 'Density', 'Urban Pop', 'Quarantine',\n",
       "       'Schools', 'Restrictions', 'Hospital Bed', 'sex0', 'sex14', 'sex25',\n",
       "       'sex54', 'sex64', 'sex65plus', 'Sex Ratio', 'lung', 'Female Lung',\n",
       "       'Male Lung', 'Median Age', 'GDP 2018', 'Crime Index', 'Population 2020',\n",
       "       'Smoking 2016', 'Females 2018', 'Total Infected', 'Total Deaths',\n",
       "       'Total Recovered'],\n",
       "      dtype='object')"
      ]
     },
     "execution_count": 48,
     "metadata": {},
     "output_type": "execute_result"
    }
   ],
   "source": [
    "static_feature_2.columns"
   ]
  },
  {
   "cell_type": "code",
   "execution_count": 49,
   "metadata": {},
   "outputs": [],
   "source": [
    "feature_selected_1 = ['country','Flu_pneumonia_death_rate_per_100000', 'h1n1_Geographic_spread',\n",
    "       'h1n1_Intensity', 'h1n1_Impact_on_healthcare_services',\n",
    "       'h1n1_Cases_underestimate', 'h1n1_Cases_confirmed',\n",
    "       'h1n1_Deaths_confirmed', 'airport_traffic_2018_thousands',\n",
    "       'property_Affordability_Index', 'Health_Care_Index',\n",
    "       'hosp_beds_per_1000_2017', 'ICU-CCB_beds_per_100000', 'Population_2020',\n",
    "       'Density_KM2m', 'Fertility_rate', 'Median_age', 'Urban_pop_pct',\n",
    "       'gdp_usd_million', 'age_0_to_14_years_percent',\n",
    "       'age_15_to_64_years_percent', 'age_over_65_years_percent',\n",
    "       'sex_male_to_female_At_birth_CIA_estimate_2020',\n",
    "       'sex_male_to_female_0_14_years', 'sex_male_to_female_15_24_years',\n",
    "       'sex_male_to_female_25_54_years', 'sex_male_to_female_55_64_years',\n",
    "       'sex_male_to_female_over_65', 'sex_male_to_female_total']\n",
    "\n",
    "feature_selected_2 = ['lung', 'Female Lung','Male Lung','Smoking 2016']"
   ]
  },
  {
   "cell_type": "code",
   "execution_count": 50,
   "metadata": {},
   "outputs": [],
   "source": [
    "population_features = ['airport_traffic_2018_thousands',\n",
    "       'property_Affordability_Index', 'Population_2020',\n",
    "       'Density_KM2m', 'Fertility_rate', 'Median_age', 'Urban_pop_pct',\n",
    "       'gdp_usd_million', 'age_0_to_14_years_percent',\n",
    "       'age_15_to_64_years_percent', 'age_over_65_years_percent',\n",
    "       'sex_male_to_female_At_birth_CIA_estimate_2020',\n",
    "       'sex_male_to_female_0_14_years', 'sex_male_to_female_15_24_years',\n",
    "       'sex_male_to_female_25_54_years', 'sex_male_to_female_55_64_years',\n",
    "       'sex_male_to_female_over_65', 'sex_male_to_female_total']\n",
    "\n",
    "healthcare_features = ['Flu_pneumonia_death_rate_per_100000', 'h1n1_Geographic_spread',\n",
    "       'h1n1_Intensity', 'h1n1_Impact_on_healthcare_services',\n",
    "       'h1n1_Cases_underestimate', 'h1n1_Cases_confirmed',\n",
    "       'h1n1_Deaths_confirmed', 'Health_Care_Index',\n",
    "       'hosp_beds_per_1000_2017', 'ICU-CCB_beds_per_100000',\n",
    "       'lung', 'Female Lung','Male Lung','Smoking 2016'\n",
    "        ]"
   ]
  },
  {
   "cell_type": "code",
   "execution_count": 51,
   "metadata": {},
   "outputs": [
    {
     "data": {
      "text/plain": [
       "((173, 65), (96, 28))"
      ]
     },
     "execution_count": 51,
     "metadata": {},
     "output_type": "execute_result"
    }
   ],
   "source": [
    "static_feature_1.shape,static_feature_2.shape"
   ]
  },
  {
   "cell_type": "code",
   "execution_count": 52,
   "metadata": {},
   "outputs": [],
   "source": [
    "static_feature = pd.merge(static_feature_1,static_feature_2,how='left',left_on='country',right_on='Country')"
   ]
  },
  {
   "cell_type": "code",
   "execution_count": 61,
   "metadata": {},
   "outputs": [],
   "source": [
    "static_feature[['country'] + population_features].to_csv('../data/population_features.csv',index=False,header=True)\n",
    "static_feature[['country'] + healthcare_features].to_csv('../data/healthcare_features.csv',index=False,header=True)"
   ]
  },
  {
   "cell_type": "code",
   "execution_count": 63,
   "metadata": {},
   "outputs": [],
   "source": [
    "daily_policy_feature = pd.read_csv('../data/oxford_cgrt.csv')"
   ]
  },
  {
   "cell_type": "code",
   "execution_count": 81,
   "metadata": {},
   "outputs": [],
   "source": [
    "policy_features = ['CountryName', 'Date', 'S1_School closing',\n",
    "       'S1_IsGeneral', 'S2_Workplace closing', 'S2_IsGeneral',\n",
    "       'S3_Cancel public events', 'S3_IsGeneral',\n",
    "       'S4_Close public transport', 'S4_IsGeneral', \n",
    "       'S5_Public information campaigns', 'S5_IsGeneral',\n",
    "       'S6_Restrictions on internal movement', 'S6_IsGeneral',\n",
    "       'S7_International travel controls', 'S8_Fiscal measures',\n",
    "       'S9_Monetary measures', \n",
    "       'S10_Emergency investment in health care', \n",
    "       'S11_Investment in Vaccines', 'StringencyIndex']"
   ]
  },
  {
   "cell_type": "code",
   "execution_count": 83,
   "metadata": {},
   "outputs": [],
   "source": [
    "daily_policy_feature[policy_features].rename({'CountryName':'country','Date':'date'},axis=1).to_csv('../data/daily_policy_features.csv',index=False,header=True)"
   ]
  },
  {
   "cell_type": "code",
   "execution_count": 84,
   "metadata": {},
   "outputs": [],
   "source": [
    "daily_weather_feature = pd.read_csv('../data/training_data_with_weather_info_week_4.csv')"
   ]
  },
  {
   "cell_type": "code",
   "execution_count": 90,
   "metadata": {},
   "outputs": [
    {
     "data": {
      "text/plain": [
       "Index(['Id', 'Province_State', 'Country_Region', 'Date', 'ConfirmedCases',\n",
       "       'Fatalities', 'country+province', 'Lat', 'Long', 'day_from_jan_first',\n",
       "       'temp', 'min', 'max', 'stp', 'slp', 'dewp', 'rh', 'ah', 'wdsp', 'prcp',\n",
       "       'fog'],\n",
       "      dtype='object')"
      ]
     },
     "execution_count": 90,
     "metadata": {},
     "output_type": "execute_result"
    }
   ],
   "source": [
    "daily_weather_feature.columns"
   ]
  },
  {
   "cell_type": "code",
   "execution_count": null,
   "metadata": {},
   "outputs": [],
   "source": [
    "Country_map = {\n",
    "    'US':'US-New York',\n",
    "    'China':'China-Hubei',\n",
    "    'Canada':'Canada-Quebec',\n",
    "    'United Kingdom'：'United Kingdom-',\n",
    "    'France':'France-',\n",
    "    'Australia':'Australia-Australian Capital Territory',\n",
    "    'Netherlands':'Netherlands-',\n",
    "    'Denmark':'Denmark-',\n",
    "    \n",
    "    \n",
    "}"
   ]
  },
  {
   "cell_type": "code",
   "execution_count": 113,
   "metadata": {},
   "outputs": [
    {
     "data": {
      "text/plain": [
       "array(['Afghanistan-', 'Albania-', 'Algeria-', 'Andorra-', 'Angola-',\n",
       "       'Antigua and Barbuda-', 'Argentina-', 'Armenia-',\n",
       "       'Australia-Australian Capital Territory',\n",
       "       'Australia-New South Wales', 'Australia-Northern Territory',\n",
       "       'Australia-Queensland', 'Australia-South Australia',\n",
       "       'Australia-Tasmania', 'Australia-Victoria',\n",
       "       'Australia-Western Australia', 'Austria-', 'Azerbaijan-',\n",
       "       'Bahamas-', 'Bahrain-', 'Bangladesh-', 'Barbados-', 'Belarus-',\n",
       "       'Belgium-', 'Belize-', 'Benin-', 'Bhutan-', 'Bolivia-',\n",
       "       'Bosnia and Herzegovina-', 'Botswana-', 'Brazil-', 'Brunei-',\n",
       "       'Bulgaria-', 'Burkina Faso-', 'Burma-', 'Burundi-', 'Cabo Verde-',\n",
       "       'Cambodia-', 'Cameroon-', 'Canada-Alberta',\n",
       "       'Canada-British Columbia', 'Canada-Manitoba',\n",
       "       'Canada-New Brunswick', 'Canada-Newfoundland and Labrador',\n",
       "       'Canada-Northwest Territories', 'Canada-Nova Scotia',\n",
       "       'Canada-Ontario', 'Canada-Prince Edward Island', 'Canada-Quebec',\n",
       "       'Canada-Saskatchewan', 'Canada-Yukon', 'Central African Republic-',\n",
       "       'Chad-', 'Chile-', 'China-Anhui', 'China-Beijing',\n",
       "       'China-Chongqing', 'China-Fujian', 'China-Gansu',\n",
       "       'China-Guangdong', 'China-Guangxi', 'China-Guizhou',\n",
       "       'China-Hainan', 'China-Hebei', 'China-Heilongjiang', 'China-Henan',\n",
       "       'China-Hong Kong', 'China-Hubei', 'China-Hunan',\n",
       "       'China-Inner Mongolia', 'China-Jiangsu', 'China-Jiangxi',\n",
       "       'China-Jilin', 'China-Liaoning', 'China-Macau', 'China-Ningxia',\n",
       "       'China-Qinghai', 'China-Shaanxi', 'China-Shandong',\n",
       "       'China-Shanghai', 'China-Shanxi', 'China-Sichuan', 'China-Tianjin',\n",
       "       'China-Tibet', 'China-Xinjiang', 'China-Yunnan', 'China-Zhejiang',\n",
       "       'Colombia-', 'Congo (Brazzaville)-', 'Congo (Kinshasa)-',\n",
       "       'Costa Rica-', \"Cote d'Ivoire-\", 'Croatia-', 'Cuba-', 'Cyprus-',\n",
       "       'Czechia-', 'Denmark-Faroe Islands', 'Denmark-Greenland',\n",
       "       'Denmark-', 'Diamond Princess-', 'Djibouti-', 'Dominica-',\n",
       "       'Dominican Republic-', 'Ecuador-', 'Egypt-', 'El Salvador-',\n",
       "       'Equatorial Guinea-', 'Eritrea-', 'Estonia-', 'Eswatini-',\n",
       "       'Ethiopia-', 'Fiji-', 'Finland-', 'France-French Guiana',\n",
       "       'France-French Polynesia', 'France-Guadeloupe',\n",
       "       'France-Martinique', 'France-Mayotte', 'France-New Caledonia',\n",
       "       'France-Reunion', 'France-Saint Barthelemy',\n",
       "       'France-Saint Pierre and Miquelon', 'France-St Martin', 'France-',\n",
       "       'Gabon-', 'Gambia-', 'Georgia-', 'Germany-', 'Ghana-', 'Greece-',\n",
       "       'Grenada-', 'Guatemala-', 'Guinea-', 'Guinea-Bissau-', 'Guyana-',\n",
       "       'Haiti-', 'Holy See-', 'Honduras-', 'Hungary-', 'Iceland-',\n",
       "       'India-', 'Indonesia-', 'Iran-', 'Iraq-', 'Ireland-', 'Israel-',\n",
       "       'Italy-', 'Jamaica-', 'Japan-', 'Jordan-', 'Kazakhstan-', 'Kenya-',\n",
       "       'Korea, South-', 'Kosovo-', 'Kuwait-', 'Kyrgyzstan-', 'Laos-',\n",
       "       'Latvia-', 'Lebanon-', 'Liberia-', 'Libya-', 'Liechtenstein-',\n",
       "       'Lithuania-', 'Luxembourg-', 'MS Zaandam-', 'Madagascar-',\n",
       "       'Malawi-', 'Malaysia-', 'Maldives-', 'Mali-', 'Malta-',\n",
       "       'Mauritania-', 'Mauritius-', 'Mexico-', 'Moldova-', 'Monaco-',\n",
       "       'Mongolia-', 'Montenegro-', 'Morocco-', 'Mozambique-', 'Namibia-',\n",
       "       'Nepal-', 'Netherlands-Aruba',\n",
       "       'Netherlands-Bonaire, Sint Eustatius and Saba',\n",
       "       'Netherlands-Curacao', 'Netherlands-Sint Maarten', 'Netherlands-',\n",
       "       'New Zealand-', 'Nicaragua-', 'Niger-', 'Nigeria-',\n",
       "       'North Macedonia-', 'Norway-', 'Oman-', 'Pakistan-', 'Panama-',\n",
       "       'Papua New Guinea-', 'Paraguay-', 'Peru-', 'Philippines-',\n",
       "       'Poland-', 'Portugal-', 'Qatar-', 'Romania-', 'Russia-', 'Rwanda-',\n",
       "       'Saint Kitts and Nevis-', 'Saint Lucia-',\n",
       "       'Saint Vincent and the Grenadines-', 'San Marino-',\n",
       "       'Sao Tome and Principe-', 'Saudi Arabia-', 'Senegal-', 'Serbia-',\n",
       "       'Seychelles-', 'Sierra Leone-', 'Singapore-', 'Slovakia-',\n",
       "       'Slovenia-', 'Somalia-', 'South Africa-', 'South Sudan-', 'Spain-',\n",
       "       'Sri Lanka-', 'Sudan-', 'Suriname-', 'Sweden-', 'Switzerland-',\n",
       "       'Syria-', 'Taiwan*-', 'Tanzania-', 'Thailand-', 'Timor-Leste-',\n",
       "       'Togo-', 'Trinidad and Tobago-', 'Tunisia-', 'Turkey-',\n",
       "       'US-Alabama', 'US-Alaska', 'US-Arizona', 'US-Arkansas',\n",
       "       'US-California', 'US-Colorado', 'US-Connecticut', 'US-Delaware',\n",
       "       'US-District of Columbia', 'US-Florida', 'US-Georgia', 'US-Guam',\n",
       "       'US-Hawaii', 'US-Idaho', 'US-Illinois', 'US-Indiana', 'US-Iowa',\n",
       "       'US-Kansas', 'US-Kentucky', 'US-Louisiana', 'US-Maine',\n",
       "       'US-Maryland', 'US-Massachusetts', 'US-Michigan', 'US-Minnesota',\n",
       "       'US-Mississippi', 'US-Missouri', 'US-Montana', 'US-Nebraska',\n",
       "       'US-Nevada', 'US-New Hampshire', 'US-New Jersey', 'US-New Mexico',\n",
       "       'US-New York', 'US-North Carolina', 'US-North Dakota', 'US-Ohio',\n",
       "       'US-Oklahoma', 'US-Oregon', 'US-Pennsylvania', 'US-Puerto Rico',\n",
       "       'US-Rhode Island', 'US-South Carolina', 'US-South Dakota',\n",
       "       'US-Tennessee', 'US-Texas', 'US-Utah', 'US-Vermont',\n",
       "       'US-Virgin Islands', 'US-Virginia', 'US-Washington',\n",
       "       'US-West Virginia', 'US-Wisconsin', 'US-Wyoming', 'Uganda-',\n",
       "       'Ukraine-', 'United Arab Emirates-', 'United Kingdom-Anguilla',\n",
       "       'United Kingdom-Bermuda', 'United Kingdom-British Virgin Islands',\n",
       "       'United Kingdom-Cayman Islands', 'United Kingdom-Channel Islands',\n",
       "       'United Kingdom-Falkland Islands (Malvinas)',\n",
       "       'United Kingdom-Gibraltar', 'United Kingdom-Isle of Man',\n",
       "       'United Kingdom-Montserrat',\n",
       "       'United Kingdom-Turks and Caicos Islands', 'United Kingdom-',\n",
       "       'Uruguay-', 'Uzbekistan-', 'Venezuela-', 'Vietnam-',\n",
       "       'West Bank and Gaza-', 'Western Sahara-', 'Zambia-', 'Zimbabwe-'],\n",
       "      dtype=object)"
      ]
     },
     "execution_count": 113,
     "metadata": {},
     "output_type": "execute_result"
    }
   ],
   "source": [
    "daily_weather_feature['country+province'].unique()"
   ]
  },
  {
   "cell_type": "code",
   "execution_count": 100,
   "metadata": {},
   "outputs": [
    {
     "data": {
      "text/plain": [
       "US                        4374\n",
       "China                     2673\n",
       "Canada                     972\n",
       "United Kingdom             891\n",
       "France                     891\n",
       "Australia                  648\n",
       "Netherlands                405\n",
       "Denmark                    243\n",
       "Philippines                 81\n",
       "Western Sahara              81\n",
       "United Arab Emirates        81\n",
       "South Sudan                 81\n",
       "Russia                      81\n",
       "Namibia                     81\n",
       "North Macedonia             81\n",
       "Bosnia and Herzegovina      81\n",
       "Sao Tome and Principe       81\n",
       "Albania                     81\n",
       "Kyrgyzstan                  81\n",
       "Luxembourg                  81\n",
       "Name: Country_Region, dtype: int64"
      ]
     },
     "execution_count": 100,
     "metadata": {},
     "output_type": "execute_result"
    }
   ],
   "source": [
    "daily_weather_feature.Country_Region.value_counts()[:20]"
   ]
  },
  {
   "cell_type": "code",
   "execution_count": null,
   "metadata": {},
   "outputs": [],
   "source": []
  }
 ],
 "metadata": {
  "kernelspec": {
   "display_name": "Python 3",
   "language": "python",
   "name": "python3"
  },
  "language_info": {
   "codemirror_mode": {
    "name": "ipython",
    "version": 3
   },
   "file_extension": ".py",
   "mimetype": "text/x-python",
   "name": "python",
   "nbconvert_exporter": "python",
   "pygments_lexer": "ipython3",
   "version": "3.7.6"
  },
  "toc": {
   "base_numbering": 1,
   "nav_menu": {},
   "number_sections": true,
   "sideBar": true,
   "skip_h1_title": false,
   "title_cell": "Table of Contents",
   "title_sidebar": "Contents",
   "toc_cell": false,
   "toc_position": {},
   "toc_section_display": true,
   "toc_window_display": false
  }
 },
 "nbformat": 4,
 "nbformat_minor": 4
}
