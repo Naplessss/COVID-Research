{
 "cells": [
  {
   "cell_type": "code",
   "execution_count": 526,
   "metadata": {},
   "outputs": [],
   "source": [
    "import pandas as pd\n",
    "import numpy as np\n",
    "from tqdm import tqdm_notebook as tqdm\n",
    "from sklearn.preprocessing import StandardScaler,RobustScaler\n",
    "import os"
   ]
  },
  {
   "cell_type": "code",
   "execution_count": 527,
   "metadata": {},
   "outputs": [],
   "source": [
    "daily_ts = pd.read_csv('../data/daily_ts_feature.csv')\n",
    "daily_weather_ts = pd.read_csv('../data/daily_weather_feature.csv')\n",
    "daily_policy_ts = pd.read_csv('../data/daily_policy_feature.csv')"
   ]
  },
  {
   "cell_type": "code",
   "execution_count": 528,
   "metadata": {},
   "outputs": [],
   "source": [
    "ts_features = [item for item in daily_ts.columns if item not in ['country','date']]\n",
    "weather_features = [item for item in daily_weather_ts.columns if item not in ['country','date']]\n",
    "policy_features = [item for item in daily_policy_ts.columns if item not in ['country','date']]"
   ]
  },
  {
   "cell_type": "code",
   "execution_count": 529,
   "metadata": {},
   "outputs": [],
   "source": [
    "ts = pd.merge(daily_ts,daily_weather_ts,how='left',on=['country','date'])\n",
    "ts = pd.merge(ts, daily_policy_ts,how='left',on=['country','date'])"
   ]
  },
  {
   "cell_type": "code",
   "execution_count": 530,
   "metadata": {},
   "outputs": [],
   "source": [
    "ts['ah'] = ts['ah'].replace(np.inf,25.0)\n",
    "ts[weather_features] = ts[weather_features].fillna(ts[weather_features].mean(axis=0))\n",
    "ts.fillna(0.0,inplace=True)"
   ]
  },
  {
   "cell_type": "code",
   "execution_count": 531,
   "metadata": {},
   "outputs": [],
   "source": [
    "date_selected = daily_ts.date.unique()[10:70]  # 2-1->3.31 "
   ]
  },
  {
   "cell_type": "code",
   "execution_count": 532,
   "metadata": {},
   "outputs": [],
   "source": [
    "# countries_selected = ts.groupby('country')['confirmed'].max().sort_values(ascending=False)[:100].index.values\n",
    "countries_selected = ['Afghanistan', 'Albania', 'Algeria', 'Argentina', 'Armenia',\n",
    "       'Australia', 'Austria', 'Azerbaijan', 'Bahrain', 'Bangladesh',\n",
    "       'Belarus', 'Belgium', 'Bolivia', 'Bosnia and Herzegovina',\n",
    "       'Brazil', 'Bulgaria', 'Cameroon', 'Canada', 'Chile', 'China',\n",
    "       'Colombia', 'Congo (Kinshasa)', \"Cote d'Ivoire\", 'Croatia', 'Cuba',\n",
    "       'Cyprus', 'Czechia', 'Denmark', 'Djibouti', 'Dominican Republic',\n",
    "       'Ecuador', 'Egypt', 'Estonia', 'Finland', 'France', 'Germany',\n",
    "       'Ghana', 'Greece', 'Guatemala', 'Guinea', 'Honduras', 'Hungary',\n",
    "       'Iceland', 'India', 'Indonesia', 'Iran', 'Iraq', 'Ireland',\n",
    "       'Israel', 'Italy', 'Japan', 'Kazakhstan', 'Kuwait', 'Kyrgyzstan',\n",
    "       'Latvia', 'Lithuania', 'Luxembourg', 'Malaysia', 'Mexico',\n",
    "       'Moldova', 'Morocco', 'Netherlands', 'New Zealand', 'Niger',\n",
    "       'Nigeria', 'North Macedonia', 'Norway', 'Oman', 'Pakistan',\n",
    "       'Panama', 'Peru', 'Philippines', 'Poland', 'Portugal', 'Qatar',\n",
    "       'Romania', 'Russia', 'Saudi Arabia', 'Senegal', 'Serbia',\n",
    "       'Singapore', 'Slovakia', 'Slovenia', 'Somalia', 'South Africa',\n",
    "       'Spain', 'Sri Lanka', 'Sudan', 'Sweden', 'Switzerland', 'Thailand',\n",
    "       'Tunisia', 'Turkey', 'US', 'Ukraine', 'United Arab Emirates',\n",
    "       'United Kingdom', 'Uzbekistan']"
   ]
  },
  {
   "cell_type": "code",
   "execution_count": 533,
   "metadata": {},
   "outputs": [],
   "source": [
    "ts = ts[ts.country.isin(countries_selected)].sort_values(['country','date']).reset_index(drop=True)"
   ]
  },
  {
   "cell_type": "code",
   "execution_count": 534,
   "metadata": {},
   "outputs": [],
   "source": [
    "healthcare = pd.read_csv('../data/healthcare_features.csv')\n",
    "population = pd.read_csv('../data/population_features.csv')"
   ]
  },
  {
   "cell_type": "code",
   "execution_count": 535,
   "metadata": {},
   "outputs": [],
   "source": [
    "healthcare = healthcare[healthcare.country.isin(countries_selected)].sort_values('country').reset_index(drop=True)\n",
    "population = population[population.country.isin(countries_selected)].sort_values('country').reset_index(drop=True)"
   ]
  },
  {
   "cell_type": "code",
   "execution_count": 536,
   "metadata": {},
   "outputs": [],
   "source": [
    "healthcare_features = [item for item in healthcare.columns if item not in ['country',\n",
    "                                                                           'h1n1_Geographic_spread',\n",
    "                                                                          'h1n1_Intensity',\n",
    "                                                                          'h1n1_Impact_on_healthcare_services']]\n",
    "population_features = [item for item in population.columns if item not in ['country']]"
   ]
  },
  {
   "cell_type": "code",
   "execution_count": 537,
   "metadata": {},
   "outputs": [],
   "source": [
    "healthcare[healthcare_features] = healthcare[healthcare_features].fillna(healthcare[healthcare_features].mean(axis=0))"
   ]
  },
  {
   "cell_type": "code",
   "execution_count": 538,
   "metadata": {},
   "outputs": [],
   "source": [
    "def normalized_digit(x):\n",
    "    try:\n",
    "        return float(x)\n",
    "    except:\n",
    "        x = str(x)\n",
    "        x = x.replace(',','')\n",
    "        if x[-1] == '%':\n",
    "            x = int(x[:-1]) / 100.0\n",
    "        if x == 'N.A.':\n",
    "            return np.nan\n",
    "        if x == '-':\n",
    "            return np.nan\n",
    "        return float(x)\n",
    "population['Urban_pop_pct'] = population.Urban_pop_pct.map(normalized_digit)\n",
    "population['Density_KM2m'] = population.Density_KM2m.map(normalized_digit)\n",
    "population['Fertility_rate'] = population.Fertility_rate.map(normalized_digit)\n",
    "population['Median_age'] = population.Median_age.map(normalized_digit)\n",
    "population['sex_male_to_female_total'] = population.sex_male_to_female_total.map(normalized_digit)"
   ]
  },
  {
   "cell_type": "code",
   "execution_count": 539,
   "metadata": {},
   "outputs": [],
   "source": [
    "population[population_features] = population[population_features].fillna(population[population_features].mean(axis=0))"
   ]
  },
  {
   "cell_type": "code",
   "execution_count": 540,
   "metadata": {},
   "outputs": [],
   "source": [
    "def prepare_data(data_list,feature_list,input_length=14,output_length=7, start_index=10, end_index=70, test_len=14):\n",
    "    \n",
    "    ts,healthcare,population = data_list\n",
    "    ts_features,weather_features,policy_features,healthcare_features,population_features = feature_list\n",
    "    \n",
    "    ts_npy = ts[ts_features].values\n",
    "    weather_npy = ts[weather_features].values\n",
    "    policy_npy = ts[policy_features].values\n",
    "    healthcare_npy = healthcare[healthcare_features].values\n",
    "    population_npy = population[population_features].values\n",
    "    \n",
    "    \n",
    "    ts_npy = np.log1p(ts_npy)\n",
    "    ss = RobustScaler()\n",
    "    weather_npy = ss.fit_transform(weather_npy)\n",
    "    policy_npy = ss.fit_transform(policy_npy)\n",
    "    healthcare_npy = ss.fit_transform(healthcare_npy)\n",
    "    population_npy = ss.fit_transform(population_npy)\n",
    "    \n",
    "    ts_len = ts.country.value_counts()[0]   \n",
    "    country_len = ts.country.value_counts().shape[0]\n",
    "    \n",
    "    train_ts_set , test_ts_set =  [],[]\n",
    "    train_weather_set , test_weather_set =  [],[]\n",
    "    train_policy_set , test_policy_set =  [],[]\n",
    "    train_healthcare_set , test_healthcare_set =  [],[]\n",
    "    train_population_set , test_population_set =  [],[]\n",
    "    train_y , test_y = [],[]\n",
    "    \n",
    "    for _country_idx in tqdm(range(country_len)):\n",
    "        _start_idx = _country_idx * ts_len\n",
    "        _end_idx = (_country_idx + 1) * ts_len\n",
    "        for slot in range(start_index,end_index-test_len):\n",
    "            \n",
    "            train_ts_set.append(ts_npy[_start_idx:_end_idx,:][slot:slot+input_length])\n",
    "            train_weather_set.append(weather_npy[_start_idx:_end_idx,:][slot:slot+input_length])        \n",
    "            train_policy_set.append(policy_npy[_start_idx:_end_idx,:][slot:slot+input_length])  \n",
    "            \n",
    "            train_healthcare_set.append(healthcare_npy[_country_idx,:])\n",
    "            train_population_set.append(population_npy[_country_idx,:])\n",
    "            \n",
    "            train_y.append(ts_npy[_start_idx:_end_idx,:][slot+input_length:slot+input_length+output_length])\n",
    "            \n",
    "            \n",
    "        for slot in [end_index-test_len]:\n",
    "            \n",
    "            test_ts_set.append(ts_npy[_start_idx:_end_idx,:][slot:slot+input_length])\n",
    "            test_weather_set.append(weather_npy[_start_idx:_end_idx,:][slot:slot+input_length])        \n",
    "            test_policy_set.append(policy_npy[_start_idx:_end_idx,:][slot:slot+input_length])  \n",
    "            \n",
    "            test_healthcare_set.append(healthcare_npy[_country_idx,:])\n",
    "            test_population_set.append(population_npy[_country_idx,:])            \n",
    "            \n",
    "            test_y.append(ts_npy[_start_idx:_end_idx,:][slot+input_length:slot+input_length+output_length])\n",
    "    \n",
    "    \n",
    "    train_ts_set = np.array(train_ts_set)\n",
    "    train_weather_set = np.array(train_weather_set)\n",
    "    train_policy_set = np.array(train_policy_set)\n",
    "    train_healthcare_set = np.array(train_healthcare_set)\n",
    "    train_population_set = np.array(train_population_set)\n",
    "    train_y = np.array(train_y)\n",
    "    \n",
    "    test_ts_set = np.array(test_ts_set)\n",
    "    test_weather_set = np.array(test_weather_set)\n",
    "    test_policy_set = np.array(test_policy_set)\n",
    "    test_healthcare_set = np.array(test_healthcare_set)\n",
    "    test_population_set = np.array(test_population_set)    \n",
    "    test_y = np.array(test_y)\n",
    "    \n",
    "    train_set = [train_ts_set, train_weather_set, train_policy_set, train_population_set, train_healthcare_set]\n",
    "    test_set = [test_ts_set, test_weather_set, test_policy_set, test_population_set, test_healthcare_set]\n",
    "    \n",
    "    return train_set,train_y,test_set,test_y"
   ]
  },
  {
   "cell_type": "code",
   "execution_count": 541,
   "metadata": {},
   "outputs": [],
   "source": [
    "data_list = [ts,population,healthcare]\n",
    "feature_list = [ts_features,weather_features,policy_features,population_features,healthcare_features]"
   ]
  },
  {
   "cell_type": "code",
   "execution_count": 542,
   "metadata": {},
   "outputs": [],
   "source": [
    "os.makedirs('../features',exist_ok=True)\n",
    "pd.to_pickle(data_list,'../features/data_list.5.7.pkl')\n",
    "pd.to_pickle(feature_list,'../features/feature_list.5.7.pkl')"
   ]
  },
  {
   "cell_type": "code",
   "execution_count": 543,
   "metadata": {},
   "outputs": [
    {
     "name": "stderr",
     "output_type": "stream",
     "text": [
      "/home/zhgao/anaconda3/lib/python3.7/site-packages/ipykernel_launcher.py:30: TqdmDeprecationWarning: This function will be removed in tqdm==5.0.0\n",
      "Please use `tqdm.notebook.tqdm` instead of `tqdm.tqdm_notebook`\n"
     ]
    },
    {
     "data": {
      "application/vnd.jupyter.widget-view+json": {
       "model_id": "a287a8e08c4a4636933a9457742df9c2",
       "version_major": 2,
       "version_minor": 0
      },
      "text/plain": [
       "HBox(children=(FloatProgress(value=0.0, max=98.0), HTML(value='')))"
      ]
     },
     "metadata": {},
     "output_type": "display_data"
    },
    {
     "name": "stdout",
     "output_type": "stream",
     "text": [
      "\n"
     ]
    }
   ],
   "source": [
    "train_set,train_y,test_set,test_y = prepare_data(data_list,feature_list)"
   ]
  },
  {
   "cell_type": "code",
   "execution_count": 544,
   "metadata": {},
   "outputs": [
    {
     "data": {
      "text/plain": [
       "((98, 14, 3), (98, 14, 11), (98, 14, 18), (98, 11), (98, 18), (98, 7, 3))"
      ]
     },
     "execution_count": 544,
     "metadata": {},
     "output_type": "execute_result"
    }
   ],
   "source": [
    "train_set[0].shape,train_set[1].shape,train_set[2].shape,train_set[3].shape,train_set[4].shape,train_y.shape\n",
    "test_set[0].shape,test_set[1].shape,test_set[2].shape,test_set[3].shape,test_set[4].shape,test_y.shape"
   ]
  },
  {
   "cell_type": "code",
   "execution_count": 545,
   "metadata": {},
   "outputs": [],
   "source": [
    "pd.to_pickle([train_set,train_y],'../features/train_set.5.7.pkl')\n",
    "pd.to_pickle([test_set,test_y],'../features/test_set.5.7.pkl')\n",
    "pd.to_pickle(countries_selected,'../features/countries.5.7.pkl')"
   ]
  },
  {
   "cell_type": "code",
   "execution_count": null,
   "metadata": {},
   "outputs": [],
   "source": []
  },
  {
   "cell_type": "code",
   "execution_count": null,
   "metadata": {},
   "outputs": [],
   "source": []
  },
  {
   "cell_type": "code",
   "execution_count": null,
   "metadata": {},
   "outputs": [],
   "source": []
  }
 ],
 "metadata": {
  "kernelspec": {
   "display_name": "Python 3",
   "language": "python",
   "name": "python3"
  },
  "language_info": {
   "codemirror_mode": {
    "name": "ipython",
    "version": 3
   },
   "file_extension": ".py",
   "mimetype": "text/x-python",
   "name": "python",
   "nbconvert_exporter": "python",
   "pygments_lexer": "ipython3",
   "version": "3.7.6"
  },
  "toc": {
   "base_numbering": 1,
   "nav_menu": {},
   "number_sections": true,
   "sideBar": true,
   "skip_h1_title": false,
   "title_cell": "Table of Contents",
   "title_sidebar": "Contents",
   "toc_cell": false,
   "toc_position": {},
   "toc_section_display": true,
   "toc_window_display": false
  }
 },
 "nbformat": 4,
 "nbformat_minor": 4
}
