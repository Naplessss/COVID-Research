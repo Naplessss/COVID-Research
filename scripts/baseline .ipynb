{
 "cells": [
  {
   "cell_type": "code",
   "execution_count": 527,
   "metadata": {},
   "outputs": [],
   "source": [
    "import torch.nn as nn\n",
    "from torch import optim\n",
    "from tqdm import tqdm_notebook as tqdm\n",
    "import torch\n",
    "import numpy as np\n",
    "import pandas as pd\n",
    "from torch.utils.data import DataLoader, Dataset, TensorDataset\n",
    "import os\n",
    "os.environ['CUDA_VISIBLE_DEVICES'] = '0'"
   ]
  },
  {
   "cell_type": "code",
   "execution_count": 528,
   "metadata": {},
   "outputs": [],
   "source": [
    "class Encoder(nn.Module):\n",
    "    def __init__(self, num_features, num_timesteps, hidden_size):\n",
    "        super(Encoder, self).__init__()\n",
    "        \n",
    "        self.num_features = num_features\n",
    "        self.num_timesteps = num_timesteps\n",
    "        self.hidden_size = hidden_size\n",
    "        self.rnn = nn.GRU(num_features, hidden_size)\n",
    "        \n",
    "    def forward(self, inputs):\n",
    "        \"\"\"\n",
    "        :params inputs: Input time series data of shape(batch_size, num_timesteps, num_features)\n",
    "        \"\"\"\n",
    "        inputs = inputs.permute(1, 0, 2)\n",
    "        \n",
    "        out, last_h = self.rnn(inputs)\n",
    "\n",
    "        out = out.permute(1, 0, 2)\n",
    "        last_h = last_h.view(-1, self.hidden_size)\n",
    "        \n",
    "        return out, last_h\n",
    "    \n",
    "class Decoder(nn.Module):\n",
    "    def __init__(self, num_timesteps_out, hidden_size, num_features_out, concat=True):\n",
    "        super(Decoder, self).__init__()\n",
    "        \n",
    "        self.num_timesteps_out = num_timesteps_out\n",
    "        self.hidden_size = hidden_size\n",
    "        self.num_features_out = num_features_out\n",
    "        self.concat = concat\n",
    "        \n",
    "        if concat:\n",
    "            self.rnn_cell = nn.GRUCell(hidden_size*2, hidden_size*2)\n",
    "            self.linear = nn.Linear(hidden_size*2, num_features_out)\n",
    "        else:\n",
    "            self.rnn_cell = nn.GRUCell(hidden_size, hidden_size)\n",
    "            self.linear = nn.Linear(hidden_size, num_features_out)    \n",
    "        \n",
    "    def forward(self, encoder_ts_hid, encoder_features_hid):\n",
    "        '''\n",
    "        :param encoder_ts_hid: (batch_size, hidden_size)\n",
    "        :param encoder_features_hid: (batch_size, hidden_size)\n",
    "        '''\n",
    "        decoder_out = []\n",
    "        if self.concat:\n",
    "            hid = torch.cat([encoder_ts_hid, encoder_features_hid], dim=-1)\n",
    "        else:\n",
    "            hid = encoder_ts_hid + encoder_features_hid\n",
    "        \n",
    "        for step in range(self.num_timesteps_out):\n",
    "            if step == 0:\n",
    "                out = self.linear(hid)\n",
    "            else:\n",
    "                hid = self.rnn_cell(hid,hid)\n",
    "                out = self.linear(hid)\n",
    "            out = out.view(-1,1,self.num_features_out)\n",
    "            decoder_out.append(out)\n",
    "        \n",
    "        decoder_out = torch.cat(decoder_out,dim=-2)\n",
    "        return decoder_out\n",
    "    \n",
    "class Project(nn.Module):\n",
    "    def __init__(self, num_features, hidden_size, dropout=0.5):\n",
    "        super(Project, self).__init__()\n",
    "        \n",
    "        self.num_features = num_features\n",
    "        self.linear_1 = nn.Linear(num_features, hidden_size)\n",
    "        self.dropout_1 = nn.Dropout(p=dropout)\n",
    "        self.bn_1 = nn.BatchNorm1d(hidden_size)\n",
    "        \n",
    "        self.linear_2 = nn.Linear(hidden_size, hidden_size)\n",
    "        self.dropout_2 = nn.Dropout(p=dropout)\n",
    "        self.bn_2 = nn.BatchNorm1d(hidden_size)        \n",
    "        \n",
    "    def forward(self, inputs):\n",
    "        \"\"\"\n",
    "        :params inputs: Input static features of shape(batch_size, num_features)\n",
    "        \"\"\"\n",
    "        fc = self.bn_1(self.dropout_1(self.linear_1(inputs)))\n",
    "        fc = self.bn_2(self.dropout_2(self.linear_2(fc)))\n",
    "\n",
    "        return fc\n",
    "\n",
    "class SelfAttention(nn.Module):\n",
    "    def __init__(self, hidden_size):\n",
    "        super(SelfAttention, self).__init__()\n",
    "        \n",
    "        self.weight = nn.Parameter(torch.Tensor(hidden_size,))\n",
    "        nn.init.uniform_(self.weight)\n",
    "        \n",
    "    def forward(self, inputs):\n",
    "        \"\"\"\n",
    "        :params inputs: Input hidden features of shape(atten_dim, hidden_size)\n",
    "        \"\"\"\n",
    "        epsilon = 1e-10\n",
    "        e_ij = torch.tanh(torch.matmul(inputs, self.weight.view(-1,1)))\n",
    "        a = torch.exp(e_ij)\n",
    "        a = a / (torch.sum(a,dim=-2,keepdim=True) + epsilon)\n",
    "        weighted_input =inputs * a\n",
    "        return torch.sum(weighted_input, axis=-2),a"
   ]
  },
  {
   "cell_type": "code",
   "execution_count": 529,
   "metadata": {},
   "outputs": [],
   "source": [
    "class PropagationNet(nn.Module): \n",
    "    def __init__(self, num_timesteps_in=14,\n",
    "                     num_timesteps_out=7,\n",
    "                     ts_num_features=3,\n",
    "                     weather_num_features=11,\n",
    "                     containment_num_features=18,\n",
    "                     population_num_features=11,\n",
    "                     healthcare_num_features=18,\n",
    "                     hidden_size=64):\n",
    "        super(PropagationNet, self).__init__()\n",
    "        \n",
    "        self.hidden_size = hidden_size\n",
    "        self.ts_encoder = Encoder(ts_num_features,num_timesteps_in,hidden_size)\n",
    "        \n",
    "        self.weather_encoder = Encoder(weather_num_features,num_timesteps_in,hidden_size)\n",
    "        self.containment_encoder = Encoder(containment_num_features,num_timesteps_in,hidden_size)\n",
    "        \n",
    "        self.population_project = Project(population_num_features,hidden_size)\n",
    "        self.healthcare_project = Project(healthcare_num_features,hidden_size)\n",
    "        \n",
    "        self.attention = SelfAttention(hidden_size)\n",
    "        self.decoder = Decoder(num_timesteps_out,hidden_size,ts_num_features)\n",
    "        \n",
    "    \n",
    "    def forward(self, inputs):\n",
    "        \"\"\"\n",
    "        :params inputs: list of \n",
    "        ts_input (batch_size, timesteps_in, ts_num_features)\n",
    "        weather_input (batch_size, timesteps_in, weather_num_features)\n",
    "        containment_input (batch_size, timesteps_in, containment_num_features)\n",
    "        \n",
    "        population_input (batch_size, population_num_features)\n",
    "        healthcare_input (batch_size, healthcare_num_features)\n",
    "        \"\"\"\n",
    "        assert(len(inputs)==5)\n",
    "        ts, weather_ts, containment_ts, population, healthcare = inputs\n",
    "\n",
    "        _, encoder_ts_hid = self.ts_encoder(ts)\n",
    "        \n",
    "        _, encoder_weather_hid = self.weather_encoder(weather_ts)\n",
    "        _, encoder_containment_hid = self.containment_encoder(containment_ts)\n",
    "        \n",
    "        project_population_hid = self.population_project(population)\n",
    "        project_healthcare_hid = self.healthcare_project(healthcare)\n",
    "        \n",
    "        \n",
    "        features_hid = torch.cat([encoder_weather_hid.view(-1,1,self.hidden_size),\n",
    "                                     encoder_containment_hid.view(-1,1,self.hidden_size),\n",
    "                                     project_population_hid.view(-1,1,self.hidden_size),\n",
    "                                     project_healthcare_hid.view(-1,1,self.hidden_size)], \n",
    "                                    dim = 1)\n",
    "        \n",
    "        features_att,a = self.attention(features_hid)\n",
    "        \n",
    "        outs = self.decoder(encoder_ts_hid, features_att)\n",
    "        \n",
    "        return features_hid, a, outs"
   ]
  },
  {
   "cell_type": "code",
   "execution_count": 530,
   "metadata": {},
   "outputs": [],
   "source": [
    "class COVID_Dataset(Dataset):\n",
    "    def __init__(self, data, y=None):\n",
    "        super(COVID_Dataset, self).__init__()\n",
    "        \n",
    "        self.ts = data[0]\n",
    "        self.weather = data[1]\n",
    "        self.policy = data[2]\n",
    "        self.population = data[3]\n",
    "        self.healthcare = data[4]\n",
    "        \n",
    "        self.y = y\n",
    "        \n",
    "    def __getitem__(self, index):\n",
    "        if self.y is not None:\n",
    "            return [self.ts[index],self.weather[index],self.policy[index],self.population[index],self.healthcare[index]],self.y[index]\n",
    "        return self.ts[index],self.weather[index],self.policy[index],self.population[index],self.healthcare[index]\n",
    " \n",
    "    def __len__(self):\n",
    "        return self.ts.shape[0]"
   ]
  },
  {
   "cell_type": "code",
   "execution_count": 531,
   "metadata": {},
   "outputs": [],
   "source": [
    "class COVID_Loss(nn.Module):\n",
    "    \n",
    "    def __init__(self, reg_weight=0.5):\n",
    "        super(COVID_Loss, self).__init__()\n",
    "        self.reg_weight = reg_weight\n",
    "        \n",
    "    def forward(self, predictions, actuals):\n",
    "        hid, a, preds = predictions\n",
    "        reg = torch.mean(torch.mean(torch.sum(hid * hid, dim=-1), dim=-1), dim=-1)\n",
    "        mae = nn.L1Loss()(preds,actuals)\n",
    "        return reg *self.reg_weight + mae * (1 - self.reg_weight)"
   ]
  },
  {
   "cell_type": "code",
   "execution_count": 532,
   "metadata": {},
   "outputs": [],
   "source": [
    "train, train_y = pd.read_pickle('../features/train_set.5.7.pkl')\n",
    "test, test_y = pd.read_pickle('../features/test_set.5.7.pkl')\n",
    "countries = pd.read_pickle('../features/countries.5.7.pkl')\n",
    "\n",
    "feautures_list = pd.read_pickle('../features/feature_list.5.7.pkl')\n",
    "\n",
    "dtrain = COVID_Dataset(train,train_y)\n",
    "dtest = COVID_Dataset(test,test_y)\n",
    "train_loader = DataLoader(dtrain, batch_size=64,shuffle=True)\n",
    "test_loader = DataLoader(dtest, batch_size=64, shuffle=False)"
   ]
  },
  {
   "cell_type": "code",
   "execution_count": 533,
   "metadata": {},
   "outputs": [
    {
     "data": {
      "text/plain": [
       "(3, 11, 18, 18, 11)"
      ]
     },
     "execution_count": 533,
     "metadata": {},
     "output_type": "execute_result"
    }
   ],
   "source": [
    "len(feautures_list[0]),len(feautures_list[1]),len(feautures_list[2]),len(feautures_list[3]),len(feautures_list[4])"
   ]
  },
  {
   "cell_type": "code",
   "execution_count": 580,
   "metadata": {},
   "outputs": [],
   "source": [
    "out_dir = '../results/exp-01/'\n",
    "initial_checkpoint = None\n",
    "os.makedirs(out_dir +'/checkpoint', exist_ok=True)\n",
    "net = PropagationNet().cuda()\n",
    "optimizer = optim.AdamW(filter(lambda p: p.requires_grad, net.parameters()),lr=0.001, weight_decay=0.02)\n",
    "checkpoint = {\n",
    "    'model': net.state_dict(),\n",
    "}"
   ]
  },
  {
   "cell_type": "code",
   "execution_count": 581,
   "metadata": {},
   "outputs": [],
   "source": [
    "if initial_checkpoint is not None:\n",
    "    checkpoint = torch.load(inital_checkpoint)\n",
    "    net.load_state_dict(initial_checkpoint['model'])\n",
    "    print('load model from', initial_checkpoint)\n",
    "    pass"
   ]
  },
  {
   "cell_type": "code",
   "execution_count": 582,
   "metadata": {
    "scrolled": false
   },
   "outputs": [
    {
     "name": "stderr",
     "output_type": "stream",
     "text": [
      "/home/zhgao/anaconda3/lib/python3.7/site-packages/ipykernel_launcher.py:7: TqdmDeprecationWarning: This function will be removed in tqdm==5.0.0\n",
      "Please use `tqdm.notebook.tqdm` instead of `tqdm.tqdm_notebook`\n",
      "  import sys\n"
     ]
    },
    {
     "data": {
      "application/vnd.jupyter.widget-view+json": {
       "model_id": "4446b9e541cc4b5b846ed22fd525db6b",
       "version_major": 2,
       "version_minor": 0
      },
      "text/plain": [
       "HBox(children=(FloatProgress(value=0.0, max=71.0), HTML(value='')))"
      ]
     },
     "metadata": {},
     "output_type": "display_data"
    },
    {
     "name": "stdout",
     "output_type": "stream",
     "text": [
      "\n",
      "TRAIN LOSS: 3.8369567662897244\n"
     ]
    },
    {
     "name": "stderr",
     "output_type": "stream",
     "text": [
      "/home/zhgao/anaconda3/lib/python3.7/site-packages/ipykernel_launcher.py:22: TqdmDeprecationWarning: This function will be removed in tqdm==5.0.0\n",
      "Please use `tqdm.notebook.tqdm` instead of `tqdm.tqdm_notebook`\n"
     ]
    },
    {
     "data": {
      "application/vnd.jupyter.widget-view+json": {
       "model_id": "124a177f64204329837ed4dc3e8ab8e6",
       "version_major": 2,
       "version_minor": 0
      },
      "text/plain": [
       "HBox(children=(FloatProgress(value=0.0, max=2.0), HTML(value='')))"
      ]
     },
     "metadata": {},
     "output_type": "display_data"
    },
    {
     "name": "stdout",
     "output_type": "stream",
     "text": [
      "\n",
      "EVAL LOSS: 2.0428675413131714\n"
     ]
    },
    {
     "data": {
      "application/vnd.jupyter.widget-view+json": {
       "model_id": "69e44a882c7b4efeb930c6742dbc486f",
       "version_major": 2,
       "version_minor": 0
      },
      "text/plain": [
       "HBox(children=(FloatProgress(value=0.0, max=71.0), HTML(value='')))"
      ]
     },
     "metadata": {},
     "output_type": "display_data"
    },
    {
     "name": "stdout",
     "output_type": "stream",
     "text": [
      "\n",
      "TRAIN LOSS: 3.0641234794133148\n"
     ]
    },
    {
     "data": {
      "application/vnd.jupyter.widget-view+json": {
       "model_id": "6ef5291ff762437b8adb692f1ce8406b",
       "version_major": 2,
       "version_minor": 0
      },
      "text/plain": [
       "HBox(children=(FloatProgress(value=0.0, max=2.0), HTML(value='')))"
      ]
     },
     "metadata": {},
     "output_type": "display_data"
    },
    {
     "name": "stdout",
     "output_type": "stream",
     "text": [
      "\n",
      "EVAL LOSS: 1.8204519152641296\n"
     ]
    },
    {
     "data": {
      "application/vnd.jupyter.widget-view+json": {
       "model_id": "3b28c31fd617414fb4c19f786b18bc63",
       "version_major": 2,
       "version_minor": 0
      },
      "text/plain": [
       "HBox(children=(FloatProgress(value=0.0, max=71.0), HTML(value='')))"
      ]
     },
     "metadata": {},
     "output_type": "display_data"
    },
    {
     "name": "stdout",
     "output_type": "stream",
     "text": [
      "\n",
      "TRAIN LOSS: 2.6199166909070084\n"
     ]
    },
    {
     "data": {
      "application/vnd.jupyter.widget-view+json": {
       "model_id": "cd2e2d38d0d246019e7021d677d4e82a",
       "version_major": 2,
       "version_minor": 0
      },
      "text/plain": [
       "HBox(children=(FloatProgress(value=0.0, max=2.0), HTML(value='')))"
      ]
     },
     "metadata": {},
     "output_type": "display_data"
    },
    {
     "name": "stdout",
     "output_type": "stream",
     "text": [
      "\n",
      "EVAL LOSS: 1.5248517990112305\n"
     ]
    },
    {
     "data": {
      "application/vnd.jupyter.widget-view+json": {
       "model_id": "42a3a90457fe4c4192883d96f26bb98f",
       "version_major": 2,
       "version_minor": 0
      },
      "text/plain": [
       "HBox(children=(FloatProgress(value=0.0, max=71.0), HTML(value='')))"
      ]
     },
     "metadata": {},
     "output_type": "display_data"
    },
    {
     "name": "stdout",
     "output_type": "stream",
     "text": [
      "\n",
      "TRAIN LOSS: 2.2685406778899715\n"
     ]
    },
    {
     "data": {
      "application/vnd.jupyter.widget-view+json": {
       "model_id": "d4ed6986f57448d899c3cea24008b2ef",
       "version_major": 2,
       "version_minor": 0
      },
      "text/plain": [
       "HBox(children=(FloatProgress(value=0.0, max=2.0), HTML(value='')))"
      ]
     },
     "metadata": {},
     "output_type": "display_data"
    },
    {
     "name": "stdout",
     "output_type": "stream",
     "text": [
      "\n",
      "EVAL LOSS: 1.2704797983169556\n"
     ]
    },
    {
     "data": {
      "application/vnd.jupyter.widget-view+json": {
       "model_id": "7ec004b1e57745b0a30caafb03d4ec27",
       "version_major": 2,
       "version_minor": 0
      },
      "text/plain": [
       "HBox(children=(FloatProgress(value=0.0, max=71.0), HTML(value='')))"
      ]
     },
     "metadata": {},
     "output_type": "display_data"
    },
    {
     "name": "stdout",
     "output_type": "stream",
     "text": [
      "\n",
      "TRAIN LOSS: 1.959607502104531\n"
     ]
    },
    {
     "data": {
      "application/vnd.jupyter.widget-view+json": {
       "model_id": "f2a1f4273d4a47ea94b2cfbc590acb28",
       "version_major": 2,
       "version_minor": 0
      },
      "text/plain": [
       "HBox(children=(FloatProgress(value=0.0, max=2.0), HTML(value='')))"
      ]
     },
     "metadata": {},
     "output_type": "display_data"
    },
    {
     "name": "stdout",
     "output_type": "stream",
     "text": [
      "\n",
      "EVAL LOSS: 1.2156828045845032\n"
     ]
    },
    {
     "data": {
      "application/vnd.jupyter.widget-view+json": {
       "model_id": "a2865dd5e2214459a37b19dd6763e86a",
       "version_major": 2,
       "version_minor": 0
      },
      "text/plain": [
       "HBox(children=(FloatProgress(value=0.0, max=71.0), HTML(value='')))"
      ]
     },
     "metadata": {},
     "output_type": "display_data"
    },
    {
     "name": "stdout",
     "output_type": "stream",
     "text": [
      "\n",
      "TRAIN LOSS: 1.6973458679629043\n"
     ]
    },
    {
     "data": {
      "application/vnd.jupyter.widget-view+json": {
       "model_id": "cb0484cee20042258644f75010765ea5",
       "version_major": 2,
       "version_minor": 0
      },
      "text/plain": [
       "HBox(children=(FloatProgress(value=0.0, max=2.0), HTML(value='')))"
      ]
     },
     "metadata": {},
     "output_type": "display_data"
    },
    {
     "name": "stdout",
     "output_type": "stream",
     "text": [
      "\n",
      "EVAL LOSS: 1.0922191143035889\n"
     ]
    },
    {
     "data": {
      "application/vnd.jupyter.widget-view+json": {
       "model_id": "8c638e9441a44627b7715207536fc6b9",
       "version_major": 2,
       "version_minor": 0
      },
      "text/plain": [
       "HBox(children=(FloatProgress(value=0.0, max=71.0), HTML(value='')))"
      ]
     },
     "metadata": {},
     "output_type": "display_data"
    },
    {
     "name": "stdout",
     "output_type": "stream",
     "text": [
      "\n",
      "TRAIN LOSS: 1.4711020278259062\n"
     ]
    },
    {
     "data": {
      "application/vnd.jupyter.widget-view+json": {
       "model_id": "66f60bdd34564617929fb8783e2e2079",
       "version_major": 2,
       "version_minor": 0
      },
      "text/plain": [
       "HBox(children=(FloatProgress(value=0.0, max=2.0), HTML(value='')))"
      ]
     },
     "metadata": {},
     "output_type": "display_data"
    },
    {
     "name": "stdout",
     "output_type": "stream",
     "text": [
      "\n",
      "EVAL LOSS: 1.0432737469673157\n"
     ]
    },
    {
     "data": {
      "application/vnd.jupyter.widget-view+json": {
       "model_id": "31252f8d2a7f45eabb7f033d976b4d32",
       "version_major": 2,
       "version_minor": 0
      },
      "text/plain": [
       "HBox(children=(FloatProgress(value=0.0, max=71.0), HTML(value='')))"
      ]
     },
     "metadata": {},
     "output_type": "display_data"
    },
    {
     "name": "stdout",
     "output_type": "stream",
     "text": [
      "\n",
      "TRAIN LOSS: 1.2721382127681249\n"
     ]
    },
    {
     "data": {
      "application/vnd.jupyter.widget-view+json": {
       "model_id": "cede04fac39741ac80a7301a4660a5b5",
       "version_major": 2,
       "version_minor": 0
      },
      "text/plain": [
       "HBox(children=(FloatProgress(value=0.0, max=2.0), HTML(value='')))"
      ]
     },
     "metadata": {},
     "output_type": "display_data"
    },
    {
     "name": "stdout",
     "output_type": "stream",
     "text": [
      "\n",
      "EVAL LOSS: 0.9504579901695251\n"
     ]
    },
    {
     "data": {
      "application/vnd.jupyter.widget-view+json": {
       "model_id": "41356327a4ea4340ba3713a456e36b36",
       "version_major": 2,
       "version_minor": 0
      },
      "text/plain": [
       "HBox(children=(FloatProgress(value=0.0, max=71.0), HTML(value='')))"
      ]
     },
     "metadata": {},
     "output_type": "display_data"
    },
    {
     "name": "stdout",
     "output_type": "stream",
     "text": [
      "\n",
      "TRAIN LOSS: 1.1032636526604773\n"
     ]
    },
    {
     "data": {
      "application/vnd.jupyter.widget-view+json": {
       "model_id": "239d52cf868b408284c5feac3c519cc3",
       "version_major": 2,
       "version_minor": 0
      },
      "text/plain": [
       "HBox(children=(FloatProgress(value=0.0, max=2.0), HTML(value='')))"
      ]
     },
     "metadata": {},
     "output_type": "display_data"
    },
    {
     "name": "stdout",
     "output_type": "stream",
     "text": [
      "\n",
      "EVAL LOSS: 0.914818525314331\n"
     ]
    },
    {
     "data": {
      "application/vnd.jupyter.widget-view+json": {
       "model_id": "6113d76e99104a188549dc28705dc287",
       "version_major": 2,
       "version_minor": 0
      },
      "text/plain": [
       "HBox(children=(FloatProgress(value=0.0, max=71.0), HTML(value='')))"
      ]
     },
     "metadata": {},
     "output_type": "display_data"
    },
    {
     "name": "stdout",
     "output_type": "stream",
     "text": [
      "\n",
      "TRAIN LOSS: 0.9637511691576998\n"
     ]
    },
    {
     "data": {
      "application/vnd.jupyter.widget-view+json": {
       "model_id": "37690fe85be843288627859eecec8786",
       "version_major": 2,
       "version_minor": 0
      },
      "text/plain": [
       "HBox(children=(FloatProgress(value=0.0, max=2.0), HTML(value='')))"
      ]
     },
     "metadata": {},
     "output_type": "display_data"
    },
    {
     "name": "stdout",
     "output_type": "stream",
     "text": [
      "\n",
      "EVAL LOSS: 0.857856273651123\n"
     ]
    },
    {
     "data": {
      "application/vnd.jupyter.widget-view+json": {
       "model_id": "45d27221a217422fa2925cf26abda9f0",
       "version_major": 2,
       "version_minor": 0
      },
      "text/plain": [
       "HBox(children=(FloatProgress(value=0.0, max=71.0), HTML(value='')))"
      ]
     },
     "metadata": {},
     "output_type": "display_data"
    },
    {
     "name": "stdout",
     "output_type": "stream",
     "text": [
      "\n",
      "TRAIN LOSS: 0.843052670149736\n"
     ]
    },
    {
     "data": {
      "application/vnd.jupyter.widget-view+json": {
       "model_id": "c68166e330244b9c9114000aeb69d927",
       "version_major": 2,
       "version_minor": 0
      },
      "text/plain": [
       "HBox(children=(FloatProgress(value=0.0, max=2.0), HTML(value='')))"
      ]
     },
     "metadata": {},
     "output_type": "display_data"
    },
    {
     "name": "stdout",
     "output_type": "stream",
     "text": [
      "\n",
      "EVAL LOSS: 0.8285035490989685\n"
     ]
    },
    {
     "data": {
      "application/vnd.jupyter.widget-view+json": {
       "model_id": "bd018247245e442ca2d772c3f543d0cc",
       "version_major": 2,
       "version_minor": 0
      },
      "text/plain": [
       "HBox(children=(FloatProgress(value=0.0, max=71.0), HTML(value='')))"
      ]
     },
     "metadata": {},
     "output_type": "display_data"
    },
    {
     "name": "stdout",
     "output_type": "stream",
     "text": [
      "\n",
      "TRAIN LOSS: 0.7403007661792594\n"
     ]
    },
    {
     "data": {
      "application/vnd.jupyter.widget-view+json": {
       "model_id": "05d4f65d79c749c1aa8dc939adc81729",
       "version_major": 2,
       "version_minor": 0
      },
      "text/plain": [
       "HBox(children=(FloatProgress(value=0.0, max=2.0), HTML(value='')))"
      ]
     },
     "metadata": {},
     "output_type": "display_data"
    },
    {
     "name": "stdout",
     "output_type": "stream",
     "text": [
      "\n",
      "EVAL LOSS: 0.760029673576355\n"
     ]
    }
   ],
   "source": [
    "epochs = 12\n",
    "criterion = COVID_Loss(reg_weight=0.1)\n",
    "loss_meter = []\n",
    "for epoch in range(epochs):\n",
    "    net.train()\n",
    "    loss_meter = []\n",
    "    for inputs, truth in tqdm(train_loader):\n",
    "        optimizer.zero_grad()\n",
    "        inputs = [item.float().cuda() for item in inputs]\n",
    "        truth = truth.float().cuda()\n",
    "        logit = net(inputs)\n",
    "        loss  = criterion(logit, truth)\n",
    "\n",
    "        loss.backward()\n",
    "        optimizer.step()\n",
    "        loss_meter.append(loss.item())\n",
    "        \n",
    "    train_loss = np.mean(loss_meter)\n",
    "    print('TRAIN LOSS: {}'.format(train_loss))\n",
    "    net.eval()\n",
    "    eval_loss_meter = []\n",
    "    for inputs, truth in tqdm(test_loader):\n",
    "        inputs = [item.float().cuda() for item in inputs]\n",
    "        truth = truth.float().cuda()\n",
    "        logit = net(inputs)\n",
    "        loss  = criterion(logit, truth)\n",
    "\n",
    "        eval_loss_meter.append(loss.item())\n",
    "\n",
    "    eval_loss = np.mean(eval_loss_meter)\n",
    "    print('EVAL LOSS: {}'.format(eval_loss))\n",
    "    \n",
    "    if False:\n",
    "        #print('validation summmary: {}_{}'.format(val_loss,val_smape_loss))\n",
    "        torch.save(checkpoint,out_dir +'/checkpoint/epoch_%02d_val_group_smape_%s_model.pth'%(epoch, val_str))\n",
    "        print('\\n save model to /checkpoint/epoch_%02d_val_group_smape_%s_model.pth'%(epoch,val_str))"
   ]
  },
  {
   "cell_type": "code",
   "execution_count": 583,
   "metadata": {},
   "outputs": [
    {
     "name": "stderr",
     "output_type": "stream",
     "text": [
      "/home/zhgao/anaconda3/lib/python3.7/site-packages/ipykernel_launcher.py:7: TqdmDeprecationWarning: This function will be removed in tqdm==5.0.0\n",
      "Please use `tqdm.notebook.tqdm` instead of `tqdm.tqdm_notebook`\n",
      "  import sys\n"
     ]
    },
    {
     "data": {
      "application/vnd.jupyter.widget-view+json": {
       "model_id": "ed1a64da8b7f431ea247322f701ec1ab",
       "version_major": 2,
       "version_minor": 0
      },
      "text/plain": [
       "HBox(children=(FloatProgress(value=0.0, max=2.0), HTML(value='')))"
      ]
     },
     "metadata": {},
     "output_type": "display_data"
    },
    {
     "name": "stdout",
     "output_type": "stream",
     "text": [
      "\n"
     ]
    }
   ],
   "source": [
    "eval_loss_meter = []\n",
    "preds = []\n",
    "hiddens = []\n",
    "attens = []\n",
    "labels = []\n",
    "\n",
    "for inputs, truth in tqdm(test_loader):\n",
    "    inputs = [item.float().cuda() for item in inputs]\n",
    "    truth = truth.float().cuda()\n",
    "    logit = net(inputs)\n",
    "    _hid,_a,_pred = logit\n",
    "    _hid = _hid.detach().cpu().numpy()\n",
    "    _a = _a.detach().cpu().numpy()\n",
    "    _pred = _pred.detach().cpu().numpy()\n",
    "    _label = truth.detach().cpu().numpy()\n",
    "    \n",
    "    preds.append(np.expm1(_pred))\n",
    "    labels.append(np.expm1(_label))\n",
    "    hiddens.append(_hid)\n",
    "    attens.append(_a)\n",
    "    \n",
    "preds = np.vstack(preds)\n",
    "labels = np.vstack(labels)\n",
    "hiddens = np.vstack(hiddens)\n",
    "attens = np.vstack(attens)"
   ]
  },
  {
   "cell_type": "code",
   "execution_count": 584,
   "metadata": {
    "scrolled": false
   },
   "outputs": [
    {
     "data": {
      "text/html": [
       "<div>\n",
       "<style scoped>\n",
       "    .dataframe tbody tr th:only-of-type {\n",
       "        vertical-align: middle;\n",
       "    }\n",
       "\n",
       "    .dataframe tbody tr th {\n",
       "        vertical-align: top;\n",
       "    }\n",
       "\n",
       "    .dataframe thead th {\n",
       "        text-align: right;\n",
       "    }\n",
       "</style>\n",
       "<table border=\"1\" class=\"dataframe\">\n",
       "  <thead>\n",
       "    <tr style=\"text-align: right;\">\n",
       "      <th></th>\n",
       "      <th>0</th>\n",
       "      <th>1</th>\n",
       "      <th>2</th>\n",
       "      <th>3</th>\n",
       "      <th>4</th>\n",
       "      <th>5</th>\n",
       "      <th>6</th>\n",
       "    </tr>\n",
       "  </thead>\n",
       "  <tbody>\n",
       "    <tr>\n",
       "      <th>Afghanistan</th>\n",
       "      <td>17.468708</td>\n",
       "      <td>17.615965</td>\n",
       "      <td>19.022629</td>\n",
       "      <td>19.831581</td>\n",
       "      <td>20.709557</td>\n",
       "      <td>21.703835</td>\n",
       "      <td>22.795341</td>\n",
       "    </tr>\n",
       "    <tr>\n",
       "      <th>Albania</th>\n",
       "      <td>21.691587</td>\n",
       "      <td>19.018944</td>\n",
       "      <td>21.278215</td>\n",
       "      <td>23.446054</td>\n",
       "      <td>24.880253</td>\n",
       "      <td>25.808229</td>\n",
       "      <td>26.450159</td>\n",
       "    </tr>\n",
       "    <tr>\n",
       "      <th>Algeria</th>\n",
       "      <td>110.215225</td>\n",
       "      <td>84.447662</td>\n",
       "      <td>92.827911</td>\n",
       "      <td>100.786606</td>\n",
       "      <td>106.877098</td>\n",
       "      <td>111.546852</td>\n",
       "      <td>115.084541</td>\n",
       "    </tr>\n",
       "    <tr>\n",
       "      <th>Argentina</th>\n",
       "      <td>133.488129</td>\n",
       "      <td>123.582825</td>\n",
       "      <td>132.501862</td>\n",
       "      <td>139.436050</td>\n",
       "      <td>142.984344</td>\n",
       "      <td>145.088394</td>\n",
       "      <td>146.425339</td>\n",
       "    </tr>\n",
       "    <tr>\n",
       "      <th>Armenia</th>\n",
       "      <td>47.007568</td>\n",
       "      <td>45.778870</td>\n",
       "      <td>50.354271</td>\n",
       "      <td>53.662048</td>\n",
       "      <td>54.918179</td>\n",
       "      <td>55.301556</td>\n",
       "      <td>55.470726</td>\n",
       "    </tr>\n",
       "    <tr>\n",
       "      <th>...</th>\n",
       "      <td>...</td>\n",
       "      <td>...</td>\n",
       "      <td>...</td>\n",
       "      <td>...</td>\n",
       "      <td>...</td>\n",
       "      <td>...</td>\n",
       "      <td>...</td>\n",
       "    </tr>\n",
       "    <tr>\n",
       "      <th>US</th>\n",
       "      <td>7068.974609</td>\n",
       "      <td>16785.025391</td>\n",
       "      <td>18066.712891</td>\n",
       "      <td>19117.410156</td>\n",
       "      <td>19286.054688</td>\n",
       "      <td>19214.947266</td>\n",
       "      <td>19063.462891</td>\n",
       "    </tr>\n",
       "    <tr>\n",
       "      <th>Ukraine</th>\n",
       "      <td>153.146698</td>\n",
       "      <td>137.118378</td>\n",
       "      <td>158.585052</td>\n",
       "      <td>189.375717</td>\n",
       "      <td>212.239471</td>\n",
       "      <td>223.251007</td>\n",
       "      <td>229.897018</td>\n",
       "    </tr>\n",
       "    <tr>\n",
       "      <th>United Arab Emirates</th>\n",
       "      <td>66.274788</td>\n",
       "      <td>62.924728</td>\n",
       "      <td>70.687508</td>\n",
       "      <td>76.060783</td>\n",
       "      <td>78.164436</td>\n",
       "      <td>79.173302</td>\n",
       "      <td>79.829895</td>\n",
       "    </tr>\n",
       "    <tr>\n",
       "      <th>United Kingdom</th>\n",
       "      <td>2069.060303</td>\n",
       "      <td>2901.153809</td>\n",
       "      <td>3195.222900</td>\n",
       "      <td>3597.949951</td>\n",
       "      <td>3819.951660</td>\n",
       "      <td>3960.794922</td>\n",
       "      <td>4053.763672</td>\n",
       "    </tr>\n",
       "    <tr>\n",
       "      <th>Uzbekistan</th>\n",
       "      <td>23.522322</td>\n",
       "      <td>24.137775</td>\n",
       "      <td>26.346851</td>\n",
       "      <td>27.901218</td>\n",
       "      <td>29.367987</td>\n",
       "      <td>30.858416</td>\n",
       "      <td>32.423889</td>\n",
       "    </tr>\n",
       "  </tbody>\n",
       "</table>\n",
       "<p>98 rows × 7 columns</p>\n",
       "</div>"
      ],
      "text/plain": [
       "                                0             1             2             3  \\\n",
       "Afghanistan             17.468708     17.615965     19.022629     19.831581   \n",
       "Albania                 21.691587     19.018944     21.278215     23.446054   \n",
       "Algeria                110.215225     84.447662     92.827911    100.786606   \n",
       "Argentina              133.488129    123.582825    132.501862    139.436050   \n",
       "Armenia                 47.007568     45.778870     50.354271     53.662048   \n",
       "...                           ...           ...           ...           ...   \n",
       "US                    7068.974609  16785.025391  18066.712891  19117.410156   \n",
       "Ukraine                153.146698    137.118378    158.585052    189.375717   \n",
       "United Arab Emirates    66.274788     62.924728     70.687508     76.060783   \n",
       "United Kingdom        2069.060303   2901.153809   3195.222900   3597.949951   \n",
       "Uzbekistan              23.522322     24.137775     26.346851     27.901218   \n",
       "\n",
       "                                 4             5             6  \n",
       "Afghanistan              20.709557     21.703835     22.795341  \n",
       "Albania                  24.880253     25.808229     26.450159  \n",
       "Algeria                 106.877098    111.546852    115.084541  \n",
       "Argentina               142.984344    145.088394    146.425339  \n",
       "Armenia                  54.918179     55.301556     55.470726  \n",
       "...                            ...           ...           ...  \n",
       "US                    19286.054688  19214.947266  19063.462891  \n",
       "Ukraine                 212.239471    223.251007    229.897018  \n",
       "United Arab Emirates     78.164436     79.173302     79.829895  \n",
       "United Kingdom         3819.951660   3960.794922   4053.763672  \n",
       "Uzbekistan               29.367987     30.858416     32.423889  \n",
       "\n",
       "[98 rows x 7 columns]"
      ]
     },
     "execution_count": 584,
     "metadata": {},
     "output_type": "execute_result"
    }
   ],
   "source": [
    "pd.DataFrame(preds[:,:,0],index=countries)"
   ]
  },
  {
   "cell_type": "code",
   "execution_count": 585,
   "metadata": {},
   "outputs": [
    {
     "data": {
      "text/html": [
       "<div>\n",
       "<style scoped>\n",
       "    .dataframe tbody tr th:only-of-type {\n",
       "        vertical-align: middle;\n",
       "    }\n",
       "\n",
       "    .dataframe tbody tr th {\n",
       "        vertical-align: top;\n",
       "    }\n",
       "\n",
       "    .dataframe thead th {\n",
       "        text-align: right;\n",
       "    }\n",
       "</style>\n",
       "<table border=\"1\" class=\"dataframe\">\n",
       "  <thead>\n",
       "    <tr style=\"text-align: right;\">\n",
       "      <th></th>\n",
       "      <th>0</th>\n",
       "      <th>1</th>\n",
       "      <th>2</th>\n",
       "      <th>3</th>\n",
       "      <th>4</th>\n",
       "      <th>5</th>\n",
       "      <th>6</th>\n",
       "    </tr>\n",
       "  </thead>\n",
       "  <tbody>\n",
       "    <tr>\n",
       "      <th>Afghanistan</th>\n",
       "      <td>63.000000</td>\n",
       "      <td>35.999996</td>\n",
       "      <td>8.000000</td>\n",
       "      <td>18.000000</td>\n",
       "      <td>50.000000</td>\n",
       "      <td>18.000000</td>\n",
       "      <td>56.000000</td>\n",
       "    </tr>\n",
       "    <tr>\n",
       "      <th>Albania</th>\n",
       "      <td>16.000000</td>\n",
       "      <td>18.000000</td>\n",
       "      <td>27.000002</td>\n",
       "      <td>29.000002</td>\n",
       "      <td>27.999998</td>\n",
       "      <td>16.000000</td>\n",
       "      <td>6.000000</td>\n",
       "    </tr>\n",
       "    <tr>\n",
       "      <th>Algeria</th>\n",
       "      <td>131.000015</td>\n",
       "      <td>138.999985</td>\n",
       "      <td>185.000000</td>\n",
       "      <td>80.000008</td>\n",
       "      <td>68.999992</td>\n",
       "      <td>103.000015</td>\n",
       "      <td>45.000000</td>\n",
       "    </tr>\n",
       "    <tr>\n",
       "      <th>Argentina</th>\n",
       "      <td>0.000000</td>\n",
       "      <td>79.000000</td>\n",
       "      <td>131.999969</td>\n",
       "      <td>186.000000</td>\n",
       "      <td>0.000000</td>\n",
       "      <td>103.000015</td>\n",
       "      <td>74.000008</td>\n",
       "    </tr>\n",
       "    <tr>\n",
       "      <th>Armenia</th>\n",
       "      <td>39.000000</td>\n",
       "      <td>92.000000</td>\n",
       "      <td>73.000008</td>\n",
       "      <td>34.000004</td>\n",
       "      <td>51.999996</td>\n",
       "      <td>11.000000</td>\n",
       "      <td>20.000002</td>\n",
       "    </tr>\n",
       "    <tr>\n",
       "      <th>...</th>\n",
       "      <td>...</td>\n",
       "      <td>...</td>\n",
       "      <td>...</td>\n",
       "      <td>...</td>\n",
       "      <td>...</td>\n",
       "      <td>...</td>\n",
       "      <td>...</td>\n",
       "    </tr>\n",
       "    <tr>\n",
       "      <th>US</th>\n",
       "      <td>25069.998047</td>\n",
       "      <td>30379.988281</td>\n",
       "      <td>31745.011719</td>\n",
       "      <td>33283.007812</td>\n",
       "      <td>28151.994141</td>\n",
       "      <td>29514.990234</td>\n",
       "      <td>30803.992188</td>\n",
       "    </tr>\n",
       "    <tr>\n",
       "      <th>Ukraine</th>\n",
       "      <td>149.000015</td>\n",
       "      <td>103.000015</td>\n",
       "      <td>175.000015</td>\n",
       "      <td>152.999985</td>\n",
       "      <td>82.999985</td>\n",
       "      <td>11.000000</td>\n",
       "      <td>143.000000</td>\n",
       "    </tr>\n",
       "    <tr>\n",
       "      <th>United Arab Emirates</th>\n",
       "      <td>149.999969</td>\n",
       "      <td>210.000000</td>\n",
       "      <td>240.000015</td>\n",
       "      <td>241.000031</td>\n",
       "      <td>294.000031</td>\n",
       "      <td>277.000031</td>\n",
       "      <td>283.000061</td>\n",
       "    </tr>\n",
       "    <tr>\n",
       "      <th>United Kingdom</th>\n",
       "      <td>4384.001953</td>\n",
       "      <td>4309.000977</td>\n",
       "      <td>4516.001465</td>\n",
       "      <td>3788.000977</td>\n",
       "      <td>5958.997070</td>\n",
       "      <td>3842.999512</td>\n",
       "      <td>3670.000488</td>\n",
       "    </tr>\n",
       "    <tr>\n",
       "      <th>Uzbekistan</th>\n",
       "      <td>9.000000</td>\n",
       "      <td>24.000002</td>\n",
       "      <td>22.000000</td>\n",
       "      <td>39.000000</td>\n",
       "      <td>75.999992</td>\n",
       "      <td>114.999992</td>\n",
       "      <td>63.000000</td>\n",
       "    </tr>\n",
       "  </tbody>\n",
       "</table>\n",
       "<p>98 rows × 7 columns</p>\n",
       "</div>"
      ],
      "text/plain": [
       "                                 0             1             2             3  \\\n",
       "Afghanistan              63.000000     35.999996      8.000000     18.000000   \n",
       "Albania                  16.000000     18.000000     27.000002     29.000002   \n",
       "Algeria                 131.000015    138.999985    185.000000     80.000008   \n",
       "Argentina                 0.000000     79.000000    131.999969    186.000000   \n",
       "Armenia                  39.000000     92.000000     73.000008     34.000004   \n",
       "...                            ...           ...           ...           ...   \n",
       "US                    25069.998047  30379.988281  31745.011719  33283.007812   \n",
       "Ukraine                 149.000015    103.000015    175.000015    152.999985   \n",
       "United Arab Emirates    149.999969    210.000000    240.000015    241.000031   \n",
       "United Kingdom         4384.001953   4309.000977   4516.001465   3788.000977   \n",
       "Uzbekistan                9.000000     24.000002     22.000000     39.000000   \n",
       "\n",
       "                                 4             5             6  \n",
       "Afghanistan              50.000000     18.000000     56.000000  \n",
       "Albania                  27.999998     16.000000      6.000000  \n",
       "Algeria                  68.999992    103.000015     45.000000  \n",
       "Argentina                 0.000000    103.000015     74.000008  \n",
       "Armenia                  51.999996     11.000000     20.000002  \n",
       "...                            ...           ...           ...  \n",
       "US                    28151.994141  29514.990234  30803.992188  \n",
       "Ukraine                  82.999985     11.000000    143.000000  \n",
       "United Arab Emirates    294.000031    277.000031    283.000061  \n",
       "United Kingdom         5958.997070   3842.999512   3670.000488  \n",
       "Uzbekistan               75.999992    114.999992     63.000000  \n",
       "\n",
       "[98 rows x 7 columns]"
      ]
     },
     "execution_count": 585,
     "metadata": {},
     "output_type": "execute_result"
    }
   ],
   "source": [
    "pd.DataFrame(labels[:,:,0],index=countries)"
   ]
  },
  {
   "cell_type": "code",
   "execution_count": 586,
   "metadata": {},
   "outputs": [
    {
     "data": {
      "text/html": [
       "<div>\n",
       "<style scoped>\n",
       "    .dataframe tbody tr th:only-of-type {\n",
       "        vertical-align: middle;\n",
       "    }\n",
       "\n",
       "    .dataframe tbody tr th {\n",
       "        vertical-align: top;\n",
       "    }\n",
       "\n",
       "    .dataframe thead th {\n",
       "        text-align: right;\n",
       "    }\n",
       "</style>\n",
       "<table border=\"1\" class=\"dataframe\">\n",
       "  <thead>\n",
       "    <tr style=\"text-align: right;\">\n",
       "      <th></th>\n",
       "      <th>weather</th>\n",
       "      <th>policy</th>\n",
       "      <th>population</th>\n",
       "      <th>healthcare</th>\n",
       "    </tr>\n",
       "  </thead>\n",
       "  <tbody>\n",
       "    <tr>\n",
       "      <th>China</th>\n",
       "      <td>0.004009</td>\n",
       "      <td>0.009616</td>\n",
       "      <td>0.861645</td>\n",
       "      <td>23.558056</td>\n",
       "    </tr>\n",
       "    <tr>\n",
       "      <th>France</th>\n",
       "      <td>0.043741</td>\n",
       "      <td>0.006399</td>\n",
       "      <td>47.969727</td>\n",
       "      <td>1.098384</td>\n",
       "    </tr>\n",
       "    <tr>\n",
       "      <th>Germany</th>\n",
       "      <td>0.003977</td>\n",
       "      <td>0.321409</td>\n",
       "      <td>3.001686</td>\n",
       "      <td>2.396453</td>\n",
       "    </tr>\n",
       "    <tr>\n",
       "      <th>Iran</th>\n",
       "      <td>0.003712</td>\n",
       "      <td>0.178437</td>\n",
       "      <td>0.095415</td>\n",
       "      <td>0.087101</td>\n",
       "    </tr>\n",
       "    <tr>\n",
       "      <th>Spain</th>\n",
       "      <td>0.001889</td>\n",
       "      <td>0.091989</td>\n",
       "      <td>0.340818</td>\n",
       "      <td>0.647001</td>\n",
       "    </tr>\n",
       "    <tr>\n",
       "      <th>Italy</th>\n",
       "      <td>0.003584</td>\n",
       "      <td>0.002957</td>\n",
       "      <td>116.511742</td>\n",
       "      <td>0.891310</td>\n",
       "    </tr>\n",
       "    <tr>\n",
       "      <th>United Kingdom</th>\n",
       "      <td>0.012887</td>\n",
       "      <td>0.010778</td>\n",
       "      <td>0.533335</td>\n",
       "      <td>1.830337</td>\n",
       "    </tr>\n",
       "    <tr>\n",
       "      <th>US</th>\n",
       "      <td>0.004171</td>\n",
       "      <td>1.259530</td>\n",
       "      <td>19.111851</td>\n",
       "      <td>80.036530</td>\n",
       "    </tr>\n",
       "  </tbody>\n",
       "</table>\n",
       "</div>"
      ],
      "text/plain": [
       "                 weather    policy  population  healthcare\n",
       "China           0.004009  0.009616    0.861645   23.558056\n",
       "France          0.043741  0.006399   47.969727    1.098384\n",
       "Germany         0.003977  0.321409    3.001686    2.396453\n",
       "Iran            0.003712  0.178437    0.095415    0.087101\n",
       "Spain           0.001889  0.091989    0.340818    0.647001\n",
       "Italy           0.003584  0.002957  116.511742    0.891310\n",
       "United Kingdom  0.012887  0.010778    0.533335    1.830337\n",
       "US              0.004171  1.259530   19.111851   80.036530"
      ]
     },
     "execution_count": 586,
     "metadata": {},
     "output_type": "execute_result"
    }
   ],
   "source": [
    "pd.DataFrame((hiddens **2).sum(axis=-1)[:,:],index=countries,\n",
    "             columns=['weather','policy','population','healthcare']).loc[['China','France','Germany',\n",
    "                                                                          'Iran','Spain','Italy','United Kingdom','US'\n",
    "                                                                          ]]"
   ]
  },
  {
   "cell_type": "code",
   "execution_count": 587,
   "metadata": {},
   "outputs": [
    {
     "data": {
      "text/html": [
       "<div>\n",
       "<style scoped>\n",
       "    .dataframe tbody tr th:only-of-type {\n",
       "        vertical-align: middle;\n",
       "    }\n",
       "\n",
       "    .dataframe tbody tr th {\n",
       "        vertical-align: top;\n",
       "    }\n",
       "\n",
       "    .dataframe thead th {\n",
       "        text-align: right;\n",
       "    }\n",
       "</style>\n",
       "<table border=\"1\" class=\"dataframe\">\n",
       "  <thead>\n",
       "    <tr style=\"text-align: right;\">\n",
       "      <th></th>\n",
       "      <th>weather</th>\n",
       "      <th>policy</th>\n",
       "      <th>population</th>\n",
       "      <th>healthcare</th>\n",
       "    </tr>\n",
       "  </thead>\n",
       "  <tbody>\n",
       "    <tr>\n",
       "      <th>China</th>\n",
       "      <td>0.173039</td>\n",
       "      <td>0.201219</td>\n",
       "      <td>0.079034</td>\n",
       "      <td>0.546708</td>\n",
       "    </tr>\n",
       "    <tr>\n",
       "      <th>France</th>\n",
       "      <td>0.190516</td>\n",
       "      <td>0.125471</td>\n",
       "      <td>0.343536</td>\n",
       "      <td>0.340477</td>\n",
       "    </tr>\n",
       "    <tr>\n",
       "      <th>Germany</th>\n",
       "      <td>0.156808</td>\n",
       "      <td>0.129694</td>\n",
       "      <td>0.345636</td>\n",
       "      <td>0.367862</td>\n",
       "    </tr>\n",
       "    <tr>\n",
       "      <th>Iran</th>\n",
       "      <td>0.294845</td>\n",
       "      <td>0.376170</td>\n",
       "      <td>0.173687</td>\n",
       "      <td>0.155298</td>\n",
       "    </tr>\n",
       "    <tr>\n",
       "      <th>Spain</th>\n",
       "      <td>0.193559</td>\n",
       "      <td>0.198087</td>\n",
       "      <td>0.089720</td>\n",
       "      <td>0.518634</td>\n",
       "    </tr>\n",
       "  </tbody>\n",
       "</table>\n",
       "</div>"
      ],
      "text/plain": [
       "          weather    policy  population  healthcare\n",
       "China    0.173039  0.201219    0.079034    0.546708\n",
       "France   0.190516  0.125471    0.343536    0.340477\n",
       "Germany  0.156808  0.129694    0.345636    0.367862\n",
       "Iran     0.294845  0.376170    0.173687    0.155298\n",
       "Spain    0.193559  0.198087    0.089720    0.518634"
      ]
     },
     "execution_count": 587,
     "metadata": {},
     "output_type": "execute_result"
    }
   ],
   "source": [
    "pd.DataFrame(attens[:,:,0],index=countries,\n",
    "             columns=['weather','policy','population','healthcare']).loc[['China','France','Germany','Iran','Spain']]"
   ]
  },
  {
   "cell_type": "code",
   "execution_count": null,
   "metadata": {},
   "outputs": [],
   "source": []
  },
  {
   "cell_type": "code",
   "execution_count": null,
   "metadata": {},
   "outputs": [],
   "source": []
  }
 ],
 "metadata": {
  "kernelspec": {
   "display_name": "Python 3",
   "language": "python",
   "name": "python3"
  },
  "language_info": {
   "codemirror_mode": {
    "name": "ipython",
    "version": 3
   },
   "file_extension": ".py",
   "mimetype": "text/x-python",
   "name": "python",
   "nbconvert_exporter": "python",
   "pygments_lexer": "ipython3",
   "version": "3.7.6"
  },
  "toc": {
   "base_numbering": 1,
   "nav_menu": {},
   "number_sections": true,
   "sideBar": true,
   "skip_h1_title": false,
   "title_cell": "Table of Contents",
   "title_sidebar": "Contents",
   "toc_cell": false,
   "toc_position": {},
   "toc_section_display": true,
   "toc_window_display": false
  }
 },
 "nbformat": 4,
 "nbformat_minor": 4
}
